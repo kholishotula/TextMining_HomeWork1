{
 "cells": [
  {
   "cell_type": "markdown",
   "metadata": {
    "id": "tGxP9yTt_hK0"
   },
   "source": [
    "<h1>Text Preprocessing</h1>"
   ]
  },
  {
   "cell_type": "code",
   "execution_count": 15,
   "metadata": {
    "colab": {
     "base_uri": "https://localhost:8080/",
     "height": 34
    },
    "executionInfo": {
     "elapsed": 1191,
     "status": "ok",
     "timestamp": 1603778969514,
     "user": {
      "displayName": "Kholishotul A",
      "photoUrl": "https://lh3.googleusercontent.com/a-/AOh14GiG9CzvSfsmH8B8XGHlsMch6uTzbKddEqvdPgkO=s64",
      "userId": "05198186454443169271"
     },
     "user_tz": -420
    },
    "id": "tMsg3UUc_ofY",
    "outputId": "bb4ee83a-8ef6-4745-ae7a-7e0a81ec7a75"
   },
   "outputs": [
    {
     "data": {
      "text/plain": [
       "\"\\nfrom google.colab import drive\\ndrive.mount('/content/drive')\\n\""
      ]
     },
     "execution_count": 15,
     "metadata": {},
     "output_type": "execute_result"
    }
   ],
   "source": [
    "'''\n",
    "from google.colab import drive\n",
    "drive.mount('/content/drive')\n",
    "'''"
   ]
  },
  {
   "cell_type": "code",
   "execution_count": 1,
   "metadata": {
    "executionInfo": {
     "elapsed": 829,
     "status": "ok",
     "timestamp": 1603778971361,
     "user": {
      "displayName": "Kholishotul A",
      "photoUrl": "https://lh3.googleusercontent.com/a-/AOh14GiG9CzvSfsmH8B8XGHlsMch6uTzbKddEqvdPgkO=s64",
      "userId": "05198186454443169271"
     },
     "user_tz": -420
    },
    "id": "lNU7A1WKDGcW"
   },
   "outputs": [],
   "source": [
    "CancerType = ['Lung',\n",
    "              'Breast',\n",
    "              'Colorectal',\n",
    "              'Prostate',\n",
    "              'Stomach',\n",
    "              'Liver',\n",
    "              'Oesophagus',\n",
    "              'Cervix Uteri',\n",
    "              'Thyroid',\n",
    "              'Bladder']\n",
    "\n",
    "InputFile = ['../src/pubmed-Top1-lungcancer-set.txt',\n",
    "             '../src/pubmed-Top2-Breastcanc-set.txt',\n",
    "             '../src/pubmed-Top3-Colorectal-set.txt',\n",
    "             '../src/pubmed-Top4-prostateca-set.txt',\n",
    "             '../src/pubmed-Top5-stomachcan-set.txt',\n",
    "             '../src/pubmed-Top6-livercance-set.txt',\n",
    "             '../src/pubmed-Top7-oesophagus-set.txt',\n",
    "             '../src/pubmed-Top8-Cervixuter-set.txt',\n",
    "             '../src/pubmed-Top9-Thyroidcan-set.txt',\n",
    "             '../src/pubmed-Top10-Bladdercan-set.txt']\n",
    "\n",
    "OutputFile = ['../Output/Multi_Line/pubmed-Top1-lungcancer-set_Output.xlsx',\n",
    "              '../Output/Multi_Line/pubmed-Top2-Breastcanc-set_Output.xlsx',\n",
    "              '../Output/Multi_Line/pubmed-Top3-Colorectal-set_Output.xlsx',\n",
    "              '../Output/Multi_Line/pubmed-Top4-prostateca-set_Output.xlsx',\n",
    "              '../Output/Multi_Line/pubmed-Top5-stomachcan-set_Output.xlsx',\n",
    "              '../Output/Multi_Line/pubmed-Top6-livercance-set_Output.xlsx',\n",
    "              '../Output/Multi_Line/pubmed-Top7-oesophagus-set_Output.xlsx',\n",
    "              '../Output/Multi_Line/pubmed-Top8-Cervixuter-set_Output.xlsx',\n",
    "              '../Output/Multi_Line/pubmed-Top9-Thyroidcan-set_Output.xlsx',\n",
    "              '../Output/Multi_Line/pubmed-Top10-Bladdercan-set_Output.xlsx']"
   ]
  },
  {
   "cell_type": "code",
   "execution_count": 7,
   "metadata": {
    "id": "muVfm_uc-amQ"
   },
   "outputs": [
    {
     "name": "stdout",
     "output_type": "stream",
     "text": [
      "['pubmed-Top1-lungcancer-set_Output.xlsx', 'pubmed-Top10-Bladdercan-set_Output.xlsx', 'pubmed-Top2-Breastcanc-set_Output.xlsx', 'pubmed-Top3-Colorectal-set_Output.xlsx', 'pubmed-Top4-prostateca-set_Output.xlsx', 'pubmed-Top5-stomachcan-set_Output.xlsx', 'pubmed-Top6-livercance-set_Output.xlsx', 'pubmed-Top7-oesophagus-set_Output.xlsx', 'pubmed-Top8-Cervixuter-set_Output.xlsx', 'pubmed-Top9-Thyroidcan-set_Output.xlsx']\n"
     ]
    }
   ],
   "source": [
    "for x in range(len(CancerType)):\n",
    "    with open (InputFile[x], 'r',encoding=\"utf-8\") as file_input:\n",
    "        Lines = file_input.readlines()\n",
    "        #print (Lines)\n",
    "    cnt = 0\n",
    "    LineIndex = 0\n",
    "    PMID_LineIndex = []\n",
    "    for OneLine in Lines:\n",
    "        LineIndex = LineIndex + 1\n",
    "        if (OneLine.startswith('PMID-')):\n",
    "            cnt = cnt +1\n",
    "            PMID_LineIndex.append(LineIndex)\n",
    "    PMID_LineIndex.append(LineIndex)\n",
    "\n",
    "    PUMID_List = []\n",
    "    TI_List = []\n",
    "    AB_List = []\n",
    "\n",
    "    with open (InputFile[x], 'r',encoding=\"utf-8\") as file_input:\n",
    "        for i in range(0,cnt):\n",
    "            StartLineIndex = PMID_LineIndex[i]\n",
    "            EndLineIndex = PMID_LineIndex[i+1]\n",
    "            OnePUMID = []\n",
    "            for j in range(StartLineIndex,EndLineIndex):\n",
    "                OneLine = file_input.readline()\n",
    "                OneLine = OneLine.strip()\n",
    "                #print(OneLine)\n",
    "                OnePUMID.append(OneLine)\n",
    "            #print(len(OnePUMID))\n",
    "            #print(OnePUMID)\n",
    "            for k in range(len(OnePUMID)):\n",
    "                if (OnePUMID[k].startswith('PMID-')):\n",
    "                    OnePUMID_Info = OnePUMID[k].split('- ')\n",
    "                    #print(str(k)+' PMID:'+OnePUMID_Info[1])\n",
    "                if (OnePUMID[k].startswith('TI  -')):\n",
    "                    OneTI_Info = OnePUMID[k].split('- ')\n",
    "                    OneTI_Info = OneTI_Info[1].strip()\n",
    "                    for l in range(k+1, len(OnePUMID)):\n",
    "                        if (len(OnePUMID[l]) > 4 and OnePUMID[l][4] == '-'):\n",
    "                            break\n",
    "                        else:\n",
    "                            OneTI_Info = OneTI_Info + \" \" + OnePUMID[l].strip()\n",
    "                    #print(str(k)+' TI:'+OneTI_Info[1])\n",
    "                if (OnePUMID[k].startswith('AB  -')):\n",
    "                    if (len(OnePUMID[k]) <= 5):\n",
    "                        OneAB_Info = \"\"\n",
    "                    else:\n",
    "                        OneAB_Info = OnePUMID[k].split('- ')\n",
    "                        OneAB_Info = OneAB_Info[1].strip()\n",
    "                        for l in range(k+1, len(OnePUMID)):\n",
    "                            if (len(OnePUMID[l]) > 4 and OnePUMID[l][4] == '-'):\n",
    "                                break\n",
    "                            else:\n",
    "                                OneAB_Info = OneAB_Info + \" \" + OnePUMID[l].strip()\n",
    "                    #print(str(i) + \"=>\" + OneAB_Info)\n",
    "            PUMID_List.append(OnePUMID_Info[1].strip())\n",
    "            TI_List.append(OneTI_Info)\n",
    "            AB_List.append(OneAB_Info)\n",
    "    #print(len(PUMID_List))\n",
    "    #print(len(TI_List))\n",
    "    #print(len(AB_List))\n",
    "    PubMed_Data = [[PUMID_List[i],TI_List[i],AB_List[i]] for i in range(cnt)]\n",
    "    PubMed_Data\n",
    "\n",
    "    import pandas as pd\n",
    "\n",
    "    PubMed = pd.DataFrame(PubMed_Data, columns=['PUMID','Title','Abstract'])\n",
    "    #PubMed\n",
    "\n",
    "    PubMed['CancerType'] = CancerType[x]\n",
    "\n",
    "    PubMed.to_excel(OutputFile[x])\n",
    "\n",
    "from os import listdir\n",
    "print(listdir('../Output/Multi_Line'))"
   ]
  },
  {
   "cell_type": "code",
   "execution_count": 2,
   "metadata": {
    "colab": {
     "base_uri": "https://localhost:8080/",
     "height": 402
    },
    "executionInfo": {
     "elapsed": 12062,
     "status": "ok",
     "timestamp": 1603765765440,
     "user": {
      "displayName": "Kholishotul A",
      "photoUrl": "https://lh3.googleusercontent.com/a-/AOh14GiG9CzvSfsmH8B8XGHlsMch6uTzbKddEqvdPgkO=s64",
      "userId": "05198186454443169271"
     },
     "user_tz": -420
    },
    "id": "fb92U_wt-amT",
    "outputId": "254f23af-436e-480d-e9d7-bbda962a6dda"
   },
   "outputs": [
    {
     "data": {
      "text/html": [
       "<div>\n",
       "<style scoped>\n",
       "    .dataframe tbody tr th:only-of-type {\n",
       "        vertical-align: middle;\n",
       "    }\n",
       "\n",
       "    .dataframe tbody tr th {\n",
       "        vertical-align: top;\n",
       "    }\n",
       "\n",
       "    .dataframe thead th {\n",
       "        text-align: right;\n",
       "    }\n",
       "</style>\n",
       "<table border=\"1\" class=\"dataframe\">\n",
       "  <thead>\n",
       "    <tr style=\"text-align: right;\">\n",
       "      <th></th>\n",
       "      <th>Unnamed: 0</th>\n",
       "      <th>PUMID</th>\n",
       "      <th>Title</th>\n",
       "      <th>Abstract</th>\n",
       "      <th>CancerType</th>\n",
       "    </tr>\n",
       "  </thead>\n",
       "  <tbody>\n",
       "    <tr>\n",
       "      <th>0</th>\n",
       "      <td>0</td>\n",
       "      <td>29790681</td>\n",
       "      <td>Multiple primary lung cancer: A literature rev...</td>\n",
       "      <td>Nowadays, lung cancer is a leading cause of de...</td>\n",
       "      <td>Lung</td>\n",
       "    </tr>\n",
       "    <tr>\n",
       "      <th>1</th>\n",
       "      <td>1</td>\n",
       "      <td>27261907</td>\n",
       "      <td>Epidemiology of Lung Cancer.</td>\n",
       "      <td>Lung cancer has been transformed from a rare d...</td>\n",
       "      <td>Lung</td>\n",
       "    </tr>\n",
       "    <tr>\n",
       "      <th>2</th>\n",
       "      <td>2</td>\n",
       "      <td>29635240</td>\n",
       "      <td>Heterogeneity in Lung Cancer.</td>\n",
       "      <td>Lung cancer diagnosis is a challenge since it ...</td>\n",
       "      <td>Lung</td>\n",
       "    </tr>\n",
       "    <tr>\n",
       "      <th>3</th>\n",
       "      <td>3</td>\n",
       "      <td>30955514</td>\n",
       "      <td>Lung Cancer.</td>\n",
       "      <td>Lung cancer is the world's leading cause of ca...</td>\n",
       "      <td>Lung</td>\n",
       "    </tr>\n",
       "    <tr>\n",
       "      <th>4</th>\n",
       "      <td>4</td>\n",
       "      <td>26667338</td>\n",
       "      <td>Lung Cancer in Never Smokers.</td>\n",
       "      <td>Lung cancer is predominantly associated with c...</td>\n",
       "      <td>Lung</td>\n",
       "    </tr>\n",
       "    <tr>\n",
       "      <th>...</th>\n",
       "      <td>...</td>\n",
       "      <td>...</td>\n",
       "      <td>...</td>\n",
       "      <td>...</td>\n",
       "      <td>...</td>\n",
       "    </tr>\n",
       "    <tr>\n",
       "      <th>9995</th>\n",
       "      <td>9995</td>\n",
       "      <td>1942705</td>\n",
       "      <td>[A clinico-pathological study of 69 cases afte...</td>\n",
       "      <td>A clinico-pathological study was conducted on ...</td>\n",
       "      <td>Bladder</td>\n",
       "    </tr>\n",
       "    <tr>\n",
       "      <th>9996</th>\n",
       "      <td>9996</td>\n",
       "      <td>16325414</td>\n",
       "      <td>Continent urinary diversion.</td>\n",
       "      <td>During the last decade continent urinary diver...</td>\n",
       "      <td>Bladder</td>\n",
       "    </tr>\n",
       "    <tr>\n",
       "      <th>9997</th>\n",
       "      <td>9997</td>\n",
       "      <td>28039452</td>\n",
       "      <td>Preoperative neutrophil-lymphocyte ratio can s...</td>\n",
       "      <td>The prognostic role of systemic inflammatory r...</td>\n",
       "      <td>Bladder</td>\n",
       "    </tr>\n",
       "    <tr>\n",
       "      <th>9998</th>\n",
       "      <td>9998</td>\n",
       "      <td>13687923</td>\n",
       "      <td>[Indication and results of partial bladder res...</td>\n",
       "      <td>The prognostic role of systemic inflammatory r...</td>\n",
       "      <td>Bladder</td>\n",
       "    </tr>\n",
       "    <tr>\n",
       "      <th>9999</th>\n",
       "      <td>9999</td>\n",
       "      <td>9733663</td>\n",
       "      <td>N-glucuronidation of benzidine and its metabol...</td>\n",
       "      <td>Workers exposed to high levels of benzidine ha...</td>\n",
       "      <td>Bladder</td>\n",
       "    </tr>\n",
       "  </tbody>\n",
       "</table>\n",
       "<p>100000 rows × 5 columns</p>\n",
       "</div>"
      ],
      "text/plain": [
       "      Unnamed: 0     PUMID                                              Title  \\\n",
       "0              0  29790681  Multiple primary lung cancer: A literature rev...   \n",
       "1              1  27261907                       Epidemiology of Lung Cancer.   \n",
       "2              2  29635240                      Heterogeneity in Lung Cancer.   \n",
       "3              3  30955514                                       Lung Cancer.   \n",
       "4              4  26667338                      Lung Cancer in Never Smokers.   \n",
       "...          ...       ...                                                ...   \n",
       "9995        9995   1942705  [A clinico-pathological study of 69 cases afte...   \n",
       "9996        9996  16325414                       Continent urinary diversion.   \n",
       "9997        9997  28039452  Preoperative neutrophil-lymphocyte ratio can s...   \n",
       "9998        9998  13687923  [Indication and results of partial bladder res...   \n",
       "9999        9999   9733663  N-glucuronidation of benzidine and its metabol...   \n",
       "\n",
       "                                               Abstract CancerType  \n",
       "0     Nowadays, lung cancer is a leading cause of de...       Lung  \n",
       "1     Lung cancer has been transformed from a rare d...       Lung  \n",
       "2     Lung cancer diagnosis is a challenge since it ...       Lung  \n",
       "3     Lung cancer is the world's leading cause of ca...       Lung  \n",
       "4     Lung cancer is predominantly associated with c...       Lung  \n",
       "...                                                 ...        ...  \n",
       "9995  A clinico-pathological study was conducted on ...    Bladder  \n",
       "9996  During the last decade continent urinary diver...    Bladder  \n",
       "9997  The prognostic role of systemic inflammatory r...    Bladder  \n",
       "9998  The prognostic role of systemic inflammatory r...    Bladder  \n",
       "9999  Workers exposed to high levels of benzidine ha...    Bladder  \n",
       "\n",
       "[100000 rows x 5 columns]"
      ]
     },
     "execution_count": 2,
     "metadata": {},
     "output_type": "execute_result"
    }
   ],
   "source": [
    "import pandas as pd\n",
    "\n",
    "PubMed_Articles = pd.read_excel(OutputFile[0])\n",
    "for i in range (1,len(CancerType)):\n",
    "    OnePubMed_Articles = pd.read_excel(OutputFile[i])\n",
    "    PubMed_Articles = PubMed_Articles.append(OnePubMed_Articles)\n",
    "PubMed_Articles"
   ]
  },
  {
   "cell_type": "code",
   "execution_count": 3,
   "metadata": {
    "id": "yHS1xvqr-amW"
   },
   "outputs": [],
   "source": [
    "GatheredOutputFile = \"../Output/Multi_Line/pubmed-CancerType_Top1-10-set_Output.xlsx\"\n",
    "PubMed_Articles.to_excel(GatheredOutputFile)"
   ]
  },
  {
   "cell_type": "markdown",
   "metadata": {
    "id": "38AZotSJ-amY"
   },
   "source": [
    "<h1>(80%)(multi-lines)(No Stopwords): (70%) + Find the most 20 common words the \"title\" and \"Abstract\" and show the differences top 20 common words between \"Title\" and \"Abstract\"</h1>"
   ]
  },
  {
   "cell_type": "code",
   "execution_count": 17,
   "metadata": {
    "colab": {
     "base_uri": "https://localhost:8080/",
     "height": 228
    },
    "executionInfo": {
     "elapsed": 1153,
     "status": "ok",
     "timestamp": 1603768463439,
     "user": {
      "displayName": "Kholishotul A",
      "photoUrl": "https://lh3.googleusercontent.com/a-/AOh14GiG9CzvSfsmH8B8XGHlsMch6uTzbKddEqvdPgkO=s64",
      "userId": "05198186454443169271"
     },
     "user_tz": -420
    },
    "id": "djQ3RAfV5can",
    "outputId": "e35083f2-3178-42a3-acbe-20bd8c9ec452"
   },
   "outputs": [
    {
     "data": {
      "text/plain": [
       "0       Multiple primary lung cancer: A literature rev...\n",
       "1       Epidemiology of Lung Cancer. Lung cancer has b...\n",
       "2       Heterogeneity in Lung Cancer. Lung cancer diag...\n",
       "3       Lung Cancer. Lung cancer is the world's leadin...\n",
       "4       Lung Cancer in Never Smokers. Lung cancer is p...\n",
       "                              ...                        \n",
       "9995    [A clinico-pathological study of 69 cases afte...\n",
       "9996    Continent urinary diversion. During the last d...\n",
       "9997    Preoperative neutrophil-lymphocyte ratio can s...\n",
       "9998    [Indication and results of partial bladder res...\n",
       "9999    N-glucuronidation of benzidine and its metabol...\n",
       "Length: 100000, dtype: object"
      ]
     },
     "execution_count": 17,
     "metadata": {},
     "output_type": "execute_result"
    }
   ],
   "source": [
    "PubMed_Articles_Title_Abstract = PubMed_Articles['Title'] + ' ' + PubMed_Articles['Abstract']\n",
    "PubMed_Articles_Title_Abstract"
   ]
  },
  {
   "cell_type": "code",
   "execution_count": 18,
   "metadata": {
    "colab": {
     "base_uri": "https://localhost:8080/",
     "height": 54
    },
    "executionInfo": {
     "elapsed": 5549,
     "status": "ok",
     "timestamp": 1603768486020,
     "user": {
      "displayName": "Kholishotul A",
      "photoUrl": "https://lh3.googleusercontent.com/a-/AOh14GiG9CzvSfsmH8B8XGHlsMch6uTzbKddEqvdPgkO=s64",
      "userId": "05198186454443169271"
     },
     "user_tz": -420
    },
    "id": "2hF3P2uZ-amZ",
    "outputId": "e7463de1-c680-417d-8764-a28342f6da58"
   },
   "outputs": [
    {
     "name": "stdout",
     "output_type": "stream",
     "text": [
      "[['Multiple', 'primary', 'lung', 'cancer:', 'A', 'literature', 'review.', 'Nowadays,', 'lung', 'cancer', 'is', 'a', 'leading', 'cause', 'of', 'death', 'in', 'both', 'men', 'and', 'women', 'worldwide.', 'There', 'is', 'no', 'clear', 'explanation', 'for', 'its', 'mortality', 'rate.', 'However,', 'it', 'is', 'already', 'known', 'that', 'genetic', 'and', 'environmental', 'factors', 'as', 'well', 'as', 'oncological', 'treatment', 'are', 'involved.', 'As', 'the', 'incidence', 'of', 'lung', 'cancer', 'soars,', 'the', 'number', 'of', 'patients', 'diagnosed', 'with', 'multiple', 'primary', 'lung', 'cancers', '(MPLC)', 'is', 'also', 'rising.', 'While', 'differentiating', 'between', 'MPLC', 'and', 'intrapulmonary', 'metastasis', 'of', 'lung', 'cancer', 'is', 'important', 'for', 'treatment', 'strategy', 'and', 'prognosis,', 'it', 'is', 'also', 'quite', 'complicated,', 'particularly', 'in', 'the', 'cases', 'with', 'similar', 'histologies.', 'It', 'is', 'also', 'important', 'not', 'to', 'delay', 'the', 'diagnosis.', 'The', 'aim', 'of', 'this', 'paper', 'was', 'to', 'discuss', 'MPLC', 'in', 'general,', 'and', 'the', 'differentiation', 'between', 'MPLC', 'and', 'intrapulmonary', 'lung', 'cancer', 'metastasis', 'in', 'particular.', 'Based', 'on', 'a', 'review', 'of', 'statistical', 'data', 'and', 'the', 'current', 'literature,', 'we', 'discuss', 'the', 'diagnostic', 'criteria', 'and', 'the', 'molecular,', 'genetic', 'and', 'radiographic', 'methods', 'used', 'to', 'distinguish', 'between', 'MPLC', 'and', 'intrapulmonary', 'metastases.'], ['Epidemiology', 'of', 'Lung', 'Cancer.', 'Lung', 'cancer', 'has', 'been', 'transformed', 'from', 'a', 'rare', 'disease', 'into', 'a', 'global', 'problem', 'and', 'public', 'health', 'issue.', 'The', 'etiologic', 'factors', 'of', 'lung', 'cancer', 'become', 'more', 'complex', 'along', 'with', 'industrialization,', 'urbanization,', 'and', 'environmental', 'pollution', 'around', 'the', 'world.', 'Currently,', 'the', 'control', 'of', 'lung', 'cancer', 'has', 'attracted', 'worldwide', 'attention.', 'Studies', 'on', 'the', 'epidemiologic', 'characteristics', 'of', 'lung', 'cancer', 'and', 'its', 'relative', 'risk', 'factors', 'have', 'played', 'an', 'important', 'role', 'in', 'the', 'tertiary', 'prevention', 'of', 'lung', 'cancer', 'and', 'in', 'exploring', 'new', 'ways', 'of', 'diagnosis', 'and', 'treatment.', 'This', 'article', 'reviews', 'the', 'current', 'evolution', 'of', 'the', 'epidemiology', 'of', 'lung', 'cancer.'], ['Heterogeneity', 'in', 'Lung', 'Cancer.', 'Lung', 'cancer', 'diagnosis', 'is', 'a', 'challenge', 'since', 'it', 'is', 'also', 'one', 'of', 'the', 'most', 'frequently', 'diagnosed', 'cancers.', 'Diagnostic', 'challenges', 'are', 'deeply', 'related', 'to', 'the', 'development', 'of', 'personalized', 'therapy', 'and', 'molecular', 'and', 'precise', 'histological', 'characterizations', 'of', 'lung', 'cancer.', 'When', 'addressing', 'these', 'features,', 'it', 'is', 'very', 'important', 'to', 'acknowledge', 'the', 'issue', 'of', 'tumour', 'heterogeneity,', 'as', 'it', 'imposes', 'several', 'questions.', 'First', 'of', 'all,', 'lung', 'cancer', 'is', 'a', 'very', 'heterogeneous', 'disease,', 'at', 'a', 'cellular', 'and', 'histological', 'level.', 'Cellular', 'and', 'histological', 'heterogeneity', 'are', 'addressed', 'with', 'emphasis', 'on', 'the', 'diagnosis,', 'pre-neoplastic', 'lesions,', 'and', 'cell', 'origin,', 'trying', 'to', 'contribute', 'to', 'a', 'better', 'knowledge', 'of', 'carcinogenesis.', 'Molecular', 'intra-tumour', 'and', 'inter-tumour', 'heterogeneity', 'are', 'also', 'addressed', 'as', 'temporal', 'heterogeneity.', 'Lung', 'cancer', 'heterogeneity', 'has', 'implications', 'in', 'pathogenesis', 'understanding,', 'diagnosis,', 'selection', 'of', 'tissue', 'for', 'molecular', 'diagnosis,', 'as', 'well', 'as', 'therapeutic', 'decision.', 'The', 'understanding', 'of', 'tumour', 'heterogeneity', 'is', 'crucial', 'and', 'we', 'must', 'be', 'aware', 'of', 'the', 'implications', 'and', 'future', 'developments', 'regarding', 'this', 'field.'], ['Lung', 'Cancer.', 'Lung', 'cancer', 'is', 'the', \"world's\", 'leading', 'cause', 'of', 'cancer', 'death.', 'Screening', 'for', 'lung', 'cancer', 'by', 'low-dose', 'computed', 'tomography', 'improves', 'mortality.', 'Various', 'modalities', 'exist', 'for', 'diagnosis', 'and', 'staging.', 'Treatment', 'is', 'determined', 'by', 'subtype', 'and', 'stage', 'of', 'cancer;', 'there', 'are', 'several', 'personalized', 'therapies', 'that', 'did', 'not', 'exist', 'just', 'a', 'few', 'years', 'ago.', 'Caring', 'for', 'the', 'patient', 'with', 'lung', 'cancer', 'is', 'a', 'complex', 'task.', 'This', 'review', 'provides', 'a', 'broad', 'outline', 'of', 'this', 'disease,', 'helping', 'clinicians', 'identify', 'such', 'patients', 'and', 'familiarizing', 'them', 'with', 'lung', 'cancer', 'care', 'options,', 'so', 'they', 'are', 'better', 'equipped', 'to', 'guide', 'their', 'patients', 'along', 'this', 'challenging', 'journey.'], ['Lung', 'Cancer', 'in', 'Never', 'Smokers.', 'Lung', 'cancer', 'is', 'predominantly', 'associated', 'with', 'cigarette', 'smoking;', 'however,', 'a', 'substantial', 'minority', 'of', 'patients', 'with', 'the', 'disease', 'have', 'never', 'smoked.', 'In', 'the', 'US', 'it', 'is', 'estimated', 'there', 'are', '17,000-26,000', 'annual', 'deaths', 'from', 'lung', 'cancer', 'in', 'never', 'smokers,', 'which', 'as', 'a', 'separate', 'entity', 'would', 'be', 'the', 'seventh', 'leading', 'cause', 'of', 'cancer', 'mortality.', 'Controversy', 'surrounds', 'the', 'question', 'of', 'whether', 'or', 'not', 'the', 'incidence', 'of', 'lung', 'cancer', 'in', 'never-smokers', 'is', 'increasing,', 'with', 'more', 'data', 'to', 'support', 'this', 'observation', 'in', 'Asia.', 'There', 'are', 'several', 'factors', 'associated', 'with', 'an', 'increased', 'risk', 'of', 'developing', 'lung', 'cancer', 'in', 'never', 'smokers', 'including', 'second', 'hand', 'smoke,', 'indoor', 'air', 'pollution,', 'occupational', 'exposures,', 'and', 'genetic', 'susceptibility', 'among', 'others.', 'Adenocarcinoma', 'is', 'the', 'most', 'common', 'histology', 'of', 'lung', 'cancer', 'in', 'never', 'smokers', 'and', 'in', 'comparison', 'to', 'lung', 'cancer', 'in', 'smokers', 'appears', 'less', 'complex', 'with', 'a', 'higher', 'likelihood', 'to', 'have', 'targetable', 'driver', 'mutations.']]\n"
     ]
    }
   ],
   "source": [
    "tokens = [item.split() for item in PubMed_Articles_Title_Abstract.fillna('')]\n",
    "print(tokens[:5])"
   ]
  },
  {
   "cell_type": "code",
   "execution_count": 19,
   "metadata": {
    "colab": {
     "base_uri": "https://localhost:8080/",
     "height": 34
    },
    "executionInfo": {
     "elapsed": 2870,
     "status": "ok",
     "timestamp": 1603768490463,
     "user": {
      "displayName": "Kholishotul A",
      "photoUrl": "https://lh3.googleusercontent.com/a-/AOh14GiG9CzvSfsmH8B8XGHlsMch6uTzbKddEqvdPgkO=s64",
      "userId": "05198186454443169271"
     },
     "user_tz": -420
    },
    "id": "alf0vYGOBRpz",
    "outputId": "46effe24-7daf-46af-dc6a-37d854400253"
   },
   "outputs": [
    {
     "name": "stdout",
     "output_type": "stream",
     "text": [
      "['Multiple', 'primary', 'lung', 'cancer:', 'A', 'literature', 'review.', 'Nowadays,', 'lung', 'cancer', 'is', 'a', 'leading', 'cause', 'of', 'death', 'in', 'both', 'men', 'and']\n"
     ]
    }
   ],
   "source": [
    "words = [word for sentence in tokens for word in sentence]\n",
    "print(words[:20])"
   ]
  },
  {
   "cell_type": "code",
   "execution_count": 20,
   "metadata": {
    "colab": {
     "base_uri": "https://localhost:8080/",
     "height": 34
    },
    "executionInfo": {
     "elapsed": 16994,
     "status": "ok",
     "timestamp": 1603768508478,
     "user": {
      "displayName": "Kholishotul A",
      "photoUrl": "https://lh3.googleusercontent.com/a-/AOh14GiG9CzvSfsmH8B8XGHlsMch6uTzbKddEqvdPgkO=s64",
      "userId": "05198186454443169271"
     },
     "user_tz": -420
    },
    "id": "YVjhiBuvBSFo",
    "outputId": "b9db6eab-c574-4949-bffc-38f9ff532448"
   },
   "outputs": [
    {
     "name": "stdout",
     "output_type": "stream",
     "text": [
      "['Multiple', 'primary', 'lung', 'cancer', 'A', 'literature', 'review', 'Nowadays', 'lung', 'cancer', 'is', 'a', 'leading', 'cause', 'of', 'death', 'in', 'both', 'men', 'and']\n"
     ]
    }
   ],
   "source": [
    "import re\n",
    "words = list(filter(None, [re.sub(r'[^A-Za-z]', '', word) for word in words]))\n",
    "print(words[:20])"
   ]
  },
  {
   "cell_type": "code",
   "execution_count": 21,
   "metadata": {
    "colab": {
     "base_uri": "https://localhost:8080/",
     "height": 90
    },
    "executionInfo": {
     "elapsed": 30469,
     "status": "ok",
     "timestamp": 1603767101995,
     "user": {
      "displayName": "Kholishotul A",
      "photoUrl": "https://lh3.googleusercontent.com/a-/AOh14GiG9CzvSfsmH8B8XGHlsMch6uTzbKddEqvdPgkO=s64",
      "userId": "05198186454443169271"
     },
     "user_tz": -420
    },
    "id": "mJ6Yg-KYBUVf",
    "outputId": "d65b80f0-8a25-45e9-bfa1-2a5764fd0bc0"
   },
   "outputs": [
    {
     "name": "stderr",
     "output_type": "stream",
     "text": [
      "[nltk_data] Downloading package stopwords to\n",
      "[nltk_data]     C:\\Users\\asus\\AppData\\Roaming\\nltk_data...\n",
      "[nltk_data]   Package stopwords is already up-to-date!\n"
     ]
    },
    {
     "name": "stdout",
     "output_type": "stream",
     "text": [
      "['multiple', 'primary', 'lung', 'cancer', 'literature', 'review', 'nowadays', 'lung', 'cancer', 'leading', 'cause', 'death', 'men', 'women', 'worldwide', 'clear', 'explanation', 'mortality', 'rate', 'however']\n"
     ]
    }
   ],
   "source": [
    "import nltk \n",
    "nltk.download('stopwords')\n",
    "\n",
    "stopwords = nltk.corpus.stopwords.words('english')\n",
    "words = [word.lower() for word in words if word.lower() not in stopwords]\n",
    "print(words[:20])"
   ]
  },
  {
   "cell_type": "code",
   "execution_count": 22,
   "metadata": {
    "id": "o1y10yV4Xaik"
   },
   "outputs": [],
   "source": [
    "from collections import Counter\n",
    "\n",
    "c = Counter(words)\n",
    "Common_Tokens = c.most_common(20)"
   ]
  },
  {
   "cell_type": "code",
   "execution_count": 24,
   "metadata": {
    "id": "JkAVsEeQXbFA"
   },
   "outputs": [],
   "source": [
    "Num_Common_NoStopword = 20\n",
    "Corpus_Src = 'PubMed_Top1-10'\n",
    "Target_NoStopword = 'Title_Abstract_NumCommonTokens_' + str(Num_Common_NoStopword) + '_NoStopword'\n",
    "OutFile_NoStopword = '../Output/Multi_Line/' + Corpus_Src + '_' + Target_NoStopword + '.csv'\n",
    "\n",
    "pd.DataFrame(Common_Tokens, columns = ['Tokens', 'Frequency']).to_csv(OutFile_NoStopword, index=False)"
   ]
  },
  {
   "cell_type": "code",
   "execution_count": 25,
   "metadata": {
    "colab": {
     "base_uri": "https://localhost:8080/",
     "height": 639
    },
    "executionInfo": {
     "elapsed": 1590,
     "status": "ok",
     "timestamp": 1603767964652,
     "user": {
      "displayName": "Kholishotul A",
      "photoUrl": "https://lh3.googleusercontent.com/a-/AOh14GiG9CzvSfsmH8B8XGHlsMch6uTzbKddEqvdPgkO=s64",
      "userId": "05198186454443169271"
     },
     "user_tz": -420
    },
    "id": "KQ5EebxHXzk9",
    "outputId": "2f40f1b6-9c06-48b6-afb9-75e2c776c584"
   },
   "outputs": [
    {
     "data": {
      "text/html": [
       "<div>\n",
       "<style scoped>\n",
       "    .dataframe tbody tr th:only-of-type {\n",
       "        vertical-align: middle;\n",
       "    }\n",
       "\n",
       "    .dataframe tbody tr th {\n",
       "        vertical-align: top;\n",
       "    }\n",
       "\n",
       "    .dataframe thead th {\n",
       "        text-align: right;\n",
       "    }\n",
       "</style>\n",
       "<table border=\"1\" class=\"dataframe\">\n",
       "  <thead>\n",
       "    <tr style=\"text-align: right;\">\n",
       "      <th></th>\n",
       "      <th>Tokens</th>\n",
       "      <th>Frequency</th>\n",
       "    </tr>\n",
       "  </thead>\n",
       "  <tbody>\n",
       "    <tr>\n",
       "      <th>0</th>\n",
       "      <td>cancer</td>\n",
       "      <td>371960</td>\n",
       "    </tr>\n",
       "    <tr>\n",
       "      <th>1</th>\n",
       "      <td>patients</td>\n",
       "      <td>218811</td>\n",
       "    </tr>\n",
       "    <tr>\n",
       "      <th>2</th>\n",
       "      <td>treatment</td>\n",
       "      <td>76510</td>\n",
       "    </tr>\n",
       "    <tr>\n",
       "      <th>3</th>\n",
       "      <td>survival</td>\n",
       "      <td>61037</td>\n",
       "    </tr>\n",
       "    <tr>\n",
       "      <th>4</th>\n",
       "      <td>breast</td>\n",
       "      <td>56685</td>\n",
       "    </tr>\n",
       "    <tr>\n",
       "      <th>5</th>\n",
       "      <td>results</td>\n",
       "      <td>56614</td>\n",
       "    </tr>\n",
       "    <tr>\n",
       "      <th>6</th>\n",
       "      <td>tumor</td>\n",
       "      <td>54674</td>\n",
       "    </tr>\n",
       "    <tr>\n",
       "      <th>7</th>\n",
       "      <td>prostate</td>\n",
       "      <td>54671</td>\n",
       "    </tr>\n",
       "    <tr>\n",
       "      <th>8</th>\n",
       "      <td>p</td>\n",
       "      <td>51908</td>\n",
       "    </tr>\n",
       "    <tr>\n",
       "      <th>9</th>\n",
       "      <td>study</td>\n",
       "      <td>51109</td>\n",
       "    </tr>\n",
       "    <tr>\n",
       "      <th>10</th>\n",
       "      <td>lung</td>\n",
       "      <td>50181</td>\n",
       "    </tr>\n",
       "    <tr>\n",
       "      <th>11</th>\n",
       "      <td>thyroid</td>\n",
       "      <td>49613</td>\n",
       "    </tr>\n",
       "    <tr>\n",
       "      <th>12</th>\n",
       "      <td>carcinoma</td>\n",
       "      <td>49487</td>\n",
       "    </tr>\n",
       "    <tr>\n",
       "      <th>13</th>\n",
       "      <td>bladder</td>\n",
       "      <td>46974</td>\n",
       "    </tr>\n",
       "    <tr>\n",
       "      <th>14</th>\n",
       "      <td>risk</td>\n",
       "      <td>45442</td>\n",
       "    </tr>\n",
       "    <tr>\n",
       "      <th>15</th>\n",
       "      <td>disease</td>\n",
       "      <td>44958</td>\n",
       "    </tr>\n",
       "    <tr>\n",
       "      <th>16</th>\n",
       "      <td>colorectal</td>\n",
       "      <td>43443</td>\n",
       "    </tr>\n",
       "    <tr>\n",
       "      <th>17</th>\n",
       "      <td>clinical</td>\n",
       "      <td>41157</td>\n",
       "    </tr>\n",
       "    <tr>\n",
       "      <th>18</th>\n",
       "      <td>cell</td>\n",
       "      <td>40293</td>\n",
       "    </tr>\n",
       "    <tr>\n",
       "      <th>19</th>\n",
       "      <td>cases</td>\n",
       "      <td>39900</td>\n",
       "    </tr>\n",
       "  </tbody>\n",
       "</table>\n",
       "</div>"
      ],
      "text/plain": [
       "        Tokens  Frequency\n",
       "0       cancer     371960\n",
       "1     patients     218811\n",
       "2    treatment      76510\n",
       "3     survival      61037\n",
       "4       breast      56685\n",
       "5      results      56614\n",
       "6        tumor      54674\n",
       "7     prostate      54671\n",
       "8            p      51908\n",
       "9        study      51109\n",
       "10        lung      50181\n",
       "11     thyroid      49613\n",
       "12   carcinoma      49487\n",
       "13     bladder      46974\n",
       "14        risk      45442\n",
       "15     disease      44958\n",
       "16  colorectal      43443\n",
       "17    clinical      41157\n",
       "18        cell      40293\n",
       "19       cases      39900"
      ]
     },
     "execution_count": 25,
     "metadata": {},
     "output_type": "execute_result"
    }
   ],
   "source": [
    "import pandas as pd\n",
    "\n",
    "file = '../Output/Multi_Line/PubMed_Top1-10_Title_Abstract_NumCommonTokens_20_NoStopword.csv'\n",
    "\n",
    "PubMed_Title_Abstract_20_NoStopword = pd.read_csv(file, delimiter=',')\n",
    "PubMed_Title_Abstract_20_NoStopword"
   ]
  },
  {
   "cell_type": "markdown",
   "metadata": {
    "id": "wc9pAueXEyfH"
   },
   "source": [
    "<h1>(90%)(multi-lines)(No Stopwords)(Lemmatization): (80%) + Compare the most 20 common words in the within the \"title\" and \"Abstract\"</h1>"
   ]
  },
  {
   "cell_type": "code",
   "execution_count": 4,
   "metadata": {
    "colab": {
     "base_uri": "https://localhost:8080/",
     "height": 228
    },
    "executionInfo": {
     "elapsed": 1278,
     "status": "ok",
     "timestamp": 1603772571994,
     "user": {
      "displayName": "Kholishotul A",
      "photoUrl": "https://lh3.googleusercontent.com/a-/AOh14GiG9CzvSfsmH8B8XGHlsMch6uTzbKddEqvdPgkO=s64",
      "userId": "05198186454443169271"
     },
     "user_tz": -420
    },
    "id": "KH5xuqDwE734",
    "outputId": "fcb7b1da-312f-43ce-e8f4-d63c74c39640"
   },
   "outputs": [
    {
     "data": {
      "text/plain": [
       "0       Multiple primary lung cancer: A literature rev...\n",
       "1       Epidemiology of Lung Cancer. Lung cancer has b...\n",
       "2       Heterogeneity in Lung Cancer. Lung cancer diag...\n",
       "3       Lung Cancer. Lung cancer is the world's leadin...\n",
       "4       Lung Cancer in Never Smokers. Lung cancer is p...\n",
       "                              ...                        \n",
       "9995    [A clinico-pathological study of 69 cases afte...\n",
       "9996    Continent urinary diversion. During the last d...\n",
       "9997    Preoperative neutrophil-lymphocyte ratio can s...\n",
       "9998    [Indication and results of partial bladder res...\n",
       "9999    N-glucuronidation of benzidine and its metabol...\n",
       "Length: 100000, dtype: object"
      ]
     },
     "execution_count": 4,
     "metadata": {},
     "output_type": "execute_result"
    }
   ],
   "source": [
    "PubMed_Articles_Title_Abstract = PubMed_Articles['Title'] + ' ' + PubMed_Articles['Abstract']\n",
    "PubMed_Articles_Title_Abstract"
   ]
  },
  {
   "cell_type": "code",
   "execution_count": 5,
   "metadata": {
    "colab": {
     "base_uri": "https://localhost:8080/",
     "height": 54
    },
    "executionInfo": {
     "elapsed": 4836,
     "status": "ok",
     "timestamp": 1603772578197,
     "user": {
      "displayName": "Kholishotul A",
      "photoUrl": "https://lh3.googleusercontent.com/a-/AOh14GiG9CzvSfsmH8B8XGHlsMch6uTzbKddEqvdPgkO=s64",
      "userId": "05198186454443169271"
     },
     "user_tz": -420
    },
    "id": "nNJUkYVRK2dV",
    "outputId": "d3cda9a6-fd49-42a0-d633-413e9c6a1c6d"
   },
   "outputs": [
    {
     "name": "stdout",
     "output_type": "stream",
     "text": [
      "[['Multiple', 'primary', 'lung', 'cancer:', 'A', 'literature', 'review.', 'Nowadays,', 'lung', 'cancer', 'is', 'a', 'leading', 'cause', 'of', 'death', 'in', 'both', 'men', 'and', 'women', 'worldwide.', 'There', 'is', 'no', 'clear', 'explanation', 'for', 'its', 'mortality', 'rate.', 'However,', 'it', 'is', 'already', 'known', 'that', 'genetic', 'and', 'environmental', 'factors', 'as', 'well', 'as', 'oncological', 'treatment', 'are', 'involved.', 'As', 'the', 'incidence', 'of', 'lung', 'cancer', 'soars,', 'the', 'number', 'of', 'patients', 'diagnosed', 'with', 'multiple', 'primary', 'lung', 'cancers', '(MPLC)', 'is', 'also', 'rising.', 'While', 'differentiating', 'between', 'MPLC', 'and', 'intrapulmonary', 'metastasis', 'of', 'lung', 'cancer', 'is', 'important', 'for', 'treatment', 'strategy', 'and', 'prognosis,', 'it', 'is', 'also', 'quite', 'complicated,', 'particularly', 'in', 'the', 'cases', 'with', 'similar', 'histologies.', 'It', 'is', 'also', 'important', 'not', 'to', 'delay', 'the', 'diagnosis.', 'The', 'aim', 'of', 'this', 'paper', 'was', 'to', 'discuss', 'MPLC', 'in', 'general,', 'and', 'the', 'differentiation', 'between', 'MPLC', 'and', 'intrapulmonary', 'lung', 'cancer', 'metastasis', 'in', 'particular.', 'Based', 'on', 'a', 'review', 'of', 'statistical', 'data', 'and', 'the', 'current', 'literature,', 'we', 'discuss', 'the', 'diagnostic', 'criteria', 'and', 'the', 'molecular,', 'genetic', 'and', 'radiographic', 'methods', 'used', 'to', 'distinguish', 'between', 'MPLC', 'and', 'intrapulmonary', 'metastases.'], ['Epidemiology', 'of', 'Lung', 'Cancer.', 'Lung', 'cancer', 'has', 'been', 'transformed', 'from', 'a', 'rare', 'disease', 'into', 'a', 'global', 'problem', 'and', 'public', 'health', 'issue.', 'The', 'etiologic', 'factors', 'of', 'lung', 'cancer', 'become', 'more', 'complex', 'along', 'with', 'industrialization,', 'urbanization,', 'and', 'environmental', 'pollution', 'around', 'the', 'world.', 'Currently,', 'the', 'control', 'of', 'lung', 'cancer', 'has', 'attracted', 'worldwide', 'attention.', 'Studies', 'on', 'the', 'epidemiologic', 'characteristics', 'of', 'lung', 'cancer', 'and', 'its', 'relative', 'risk', 'factors', 'have', 'played', 'an', 'important', 'role', 'in', 'the', 'tertiary', 'prevention', 'of', 'lung', 'cancer', 'and', 'in', 'exploring', 'new', 'ways', 'of', 'diagnosis', 'and', 'treatment.', 'This', 'article', 'reviews', 'the', 'current', 'evolution', 'of', 'the', 'epidemiology', 'of', 'lung', 'cancer.'], ['Heterogeneity', 'in', 'Lung', 'Cancer.', 'Lung', 'cancer', 'diagnosis', 'is', 'a', 'challenge', 'since', 'it', 'is', 'also', 'one', 'of', 'the', 'most', 'frequently', 'diagnosed', 'cancers.', 'Diagnostic', 'challenges', 'are', 'deeply', 'related', 'to', 'the', 'development', 'of', 'personalized', 'therapy', 'and', 'molecular', 'and', 'precise', 'histological', 'characterizations', 'of', 'lung', 'cancer.', 'When', 'addressing', 'these', 'features,', 'it', 'is', 'very', 'important', 'to', 'acknowledge', 'the', 'issue', 'of', 'tumour', 'heterogeneity,', 'as', 'it', 'imposes', 'several', 'questions.', 'First', 'of', 'all,', 'lung', 'cancer', 'is', 'a', 'very', 'heterogeneous', 'disease,', 'at', 'a', 'cellular', 'and', 'histological', 'level.', 'Cellular', 'and', 'histological', 'heterogeneity', 'are', 'addressed', 'with', 'emphasis', 'on', 'the', 'diagnosis,', 'pre-neoplastic', 'lesions,', 'and', 'cell', 'origin,', 'trying', 'to', 'contribute', 'to', 'a', 'better', 'knowledge', 'of', 'carcinogenesis.', 'Molecular', 'intra-tumour', 'and', 'inter-tumour', 'heterogeneity', 'are', 'also', 'addressed', 'as', 'temporal', 'heterogeneity.', 'Lung', 'cancer', 'heterogeneity', 'has', 'implications', 'in', 'pathogenesis', 'understanding,', 'diagnosis,', 'selection', 'of', 'tissue', 'for', 'molecular', 'diagnosis,', 'as', 'well', 'as', 'therapeutic', 'decision.', 'The', 'understanding', 'of', 'tumour', 'heterogeneity', 'is', 'crucial', 'and', 'we', 'must', 'be', 'aware', 'of', 'the', 'implications', 'and', 'future', 'developments', 'regarding', 'this', 'field.'], ['Lung', 'Cancer.', 'Lung', 'cancer', 'is', 'the', \"world's\", 'leading', 'cause', 'of', 'cancer', 'death.', 'Screening', 'for', 'lung', 'cancer', 'by', 'low-dose', 'computed', 'tomography', 'improves', 'mortality.', 'Various', 'modalities', 'exist', 'for', 'diagnosis', 'and', 'staging.', 'Treatment', 'is', 'determined', 'by', 'subtype', 'and', 'stage', 'of', 'cancer;', 'there', 'are', 'several', 'personalized', 'therapies', 'that', 'did', 'not', 'exist', 'just', 'a', 'few', 'years', 'ago.', 'Caring', 'for', 'the', 'patient', 'with', 'lung', 'cancer', 'is', 'a', 'complex', 'task.', 'This', 'review', 'provides', 'a', 'broad', 'outline', 'of', 'this', 'disease,', 'helping', 'clinicians', 'identify', 'such', 'patients', 'and', 'familiarizing', 'them', 'with', 'lung', 'cancer', 'care', 'options,', 'so', 'they', 'are', 'better', 'equipped', 'to', 'guide', 'their', 'patients', 'along', 'this', 'challenging', 'journey.'], ['Lung', 'Cancer', 'in', 'Never', 'Smokers.', 'Lung', 'cancer', 'is', 'predominantly', 'associated', 'with', 'cigarette', 'smoking;', 'however,', 'a', 'substantial', 'minority', 'of', 'patients', 'with', 'the', 'disease', 'have', 'never', 'smoked.', 'In', 'the', 'US', 'it', 'is', 'estimated', 'there', 'are', '17,000-26,000', 'annual', 'deaths', 'from', 'lung', 'cancer', 'in', 'never', 'smokers,', 'which', 'as', 'a', 'separate', 'entity', 'would', 'be', 'the', 'seventh', 'leading', 'cause', 'of', 'cancer', 'mortality.', 'Controversy', 'surrounds', 'the', 'question', 'of', 'whether', 'or', 'not', 'the', 'incidence', 'of', 'lung', 'cancer', 'in', 'never-smokers', 'is', 'increasing,', 'with', 'more', 'data', 'to', 'support', 'this', 'observation', 'in', 'Asia.', 'There', 'are', 'several', 'factors', 'associated', 'with', 'an', 'increased', 'risk', 'of', 'developing', 'lung', 'cancer', 'in', 'never', 'smokers', 'including', 'second', 'hand', 'smoke,', 'indoor', 'air', 'pollution,', 'occupational', 'exposures,', 'and', 'genetic', 'susceptibility', 'among', 'others.', 'Adenocarcinoma', 'is', 'the', 'most', 'common', 'histology', 'of', 'lung', 'cancer', 'in', 'never', 'smokers', 'and', 'in', 'comparison', 'to', 'lung', 'cancer', 'in', 'smokers', 'appears', 'less', 'complex', 'with', 'a', 'higher', 'likelihood', 'to', 'have', 'targetable', 'driver', 'mutations.']]\n"
     ]
    }
   ],
   "source": [
    "tokens = [item.split() for item in PubMed_Articles_Title_Abstract.fillna('')]\n",
    "print(tokens[:5])"
   ]
  },
  {
   "cell_type": "code",
   "execution_count": 6,
   "metadata": {
    "colab": {
     "base_uri": "https://localhost:8080/",
     "height": 34
    },
    "executionInfo": {
     "elapsed": 1795,
     "status": "ok",
     "timestamp": 1603772580694,
     "user": {
      "displayName": "Kholishotul A",
      "photoUrl": "https://lh3.googleusercontent.com/a-/AOh14GiG9CzvSfsmH8B8XGHlsMch6uTzbKddEqvdPgkO=s64",
      "userId": "05198186454443169271"
     },
     "user_tz": -420
    },
    "id": "lHdMtXaTL_9t",
    "outputId": "73c37025-0822-4740-a2aa-7024bd93ee59"
   },
   "outputs": [
    {
     "name": "stdout",
     "output_type": "stream",
     "text": [
      "['Multiple', 'primary', 'lung', 'cancer:', 'A', 'literature', 'review.', 'Nowadays,', 'lung', 'cancer', 'is', 'a', 'leading', 'cause', 'of', 'death', 'in', 'both', 'men', 'and']\n"
     ]
    }
   ],
   "source": [
    "words = [word for sentence in tokens for word in sentence]\n",
    "print(words[:20])"
   ]
  },
  {
   "cell_type": "code",
   "execution_count": 7,
   "metadata": {
    "id": "KB_CKcW7LNow"
   },
   "outputs": [
    {
     "name": "stdout",
     "output_type": "stream",
     "text": [
      "['Multiple', 'primary', 'lung', 'cancer', 'A', 'literature', 'review', 'Nowadays', 'lung', 'cancer', 'is', 'a', 'leading', 'cause', 'of', 'death', 'in', 'both', 'men', 'and']\n"
     ]
    }
   ],
   "source": [
    "import re\n",
    "\n",
    "words = list(filter(None, [re.sub(r'[^A-Za-z]', '', word) for word in words]))\n",
    "print(words[:20])"
   ]
  },
  {
   "cell_type": "code",
   "execution_count": 8,
   "metadata": {
    "colab": {
     "base_uri": "https://localhost:8080/",
     "height": 52
    },
    "executionInfo": {
     "elapsed": 29915,
     "status": "ok",
     "timestamp": 1603772641706,
     "user": {
      "displayName": "Kholishotul A",
      "photoUrl": "https://lh3.googleusercontent.com/a-/AOh14GiG9CzvSfsmH8B8XGHlsMch6uTzbKddEqvdPgkO=s64",
      "userId": "05198186454443169271"
     },
     "user_tz": -420
    },
    "id": "-KHMkXUCQ82d",
    "outputId": "e263a147-889c-481e-914f-825acee00d45"
   },
   "outputs": [
    {
     "name": "stderr",
     "output_type": "stream",
     "text": [
      "[nltk_data] Downloading package stopwords to\n",
      "[nltk_data]     C:\\Users\\asus\\AppData\\Roaming\\nltk_data...\n",
      "[nltk_data]   Package stopwords is already up-to-date!\n"
     ]
    }
   ],
   "source": [
    "import nltk\n",
    "\n",
    "nltk.download('stopwords')\n",
    "stopwords = nltk.corpus.stopwords.words('english')\n",
    "\n",
    "words = [word.lower() for word in words if word.lower() not in stopwords]"
   ]
  },
  {
   "cell_type": "code",
   "execution_count": 10,
   "metadata": {
    "id": "wnbNKjjVNyWE"
   },
   "outputs": [
    {
     "name": "stdout",
     "output_type": "stream",
     "text": [
      "['multiple', 'primary', 'lung', 'cancer', 'literature', 'review', 'nowadays', 'lung', 'cancer', 'lead', 'cause', 'death', 'man', 'woman', 'worldwide', 'clear', 'explanation', 'mortality', 'rate', 'however']\n"
     ]
    }
   ],
   "source": [
    "import spacy\n",
    "\n",
    "nlp = spacy.load('en', disable=['vectors', 'textcat', 'tagger', 'parser', 'ner'])\n",
    "\n",
    "data = []\n",
    "for word in words:\n",
    "    text  = nlp(word)\n",
    "    for one_word in text:\n",
    "        if one_word.lemma_ != '-PRON-':\n",
    "            data.append(one_word.lemma_)\n",
    "        else:\n",
    "            data.append(one_word.text)\n",
    "print(data[:20])"
   ]
  },
  {
   "cell_type": "code",
   "execution_count": 11,
   "metadata": {
    "id": "BSIp8PIsTUz8"
   },
   "outputs": [],
   "source": [
    "from collections import Counter\n",
    "\n",
    "c = Counter(data)\n",
    "Common_Tokens = c.most_common(20)"
   ]
  },
  {
   "cell_type": "code",
   "execution_count": 12,
   "metadata": {
    "id": "wsevrGeFTrkv"
   },
   "outputs": [],
   "source": [
    "Num_Common_NoStopword_Lemmatization = 20\n",
    "Corpus_Src = 'PubMed_Top1-10'\n",
    "Target_NoStopword_Lemmatization = 'Title_Abstract_NumCommonTokens_' + str(Num_Common_NoStopword_Lemmatization) + '_NoStopword_Lemmatization'\n",
    "OutFile_NoStopword_Lemmatization = '../Output/Multi_Line/' + Corpus_Src + '_' + Target_NoStopword_Lemmatization + '.csv'\n",
    "\n",
    "pd.DataFrame(Common_Tokens, columns = ['Tokens', 'Frequency']).to_csv(OutFile_NoStopword_Lemmatization, index=False)"
   ]
  },
  {
   "cell_type": "code",
   "execution_count": 13,
   "metadata": {},
   "outputs": [
    {
     "data": {
      "text/html": [
       "<div>\n",
       "<style scoped>\n",
       "    .dataframe tbody tr th:only-of-type {\n",
       "        vertical-align: middle;\n",
       "    }\n",
       "\n",
       "    .dataframe tbody tr th {\n",
       "        vertical-align: top;\n",
       "    }\n",
       "\n",
       "    .dataframe thead th {\n",
       "        text-align: right;\n",
       "    }\n",
       "</style>\n",
       "<table border=\"1\" class=\"dataframe\">\n",
       "  <thead>\n",
       "    <tr style=\"text-align: right;\">\n",
       "      <th></th>\n",
       "      <th>Tokens</th>\n",
       "      <th>Frequency</th>\n",
       "    </tr>\n",
       "  </thead>\n",
       "  <tbody>\n",
       "    <tr>\n",
       "      <th>0</th>\n",
       "      <td>cancer</td>\n",
       "      <td>393778</td>\n",
       "    </tr>\n",
       "    <tr>\n",
       "      <th>1</th>\n",
       "      <td>patient</td>\n",
       "      <td>242009</td>\n",
       "    </tr>\n",
       "    <tr>\n",
       "      <th>2</th>\n",
       "      <td>study</td>\n",
       "      <td>82971</td>\n",
       "    </tr>\n",
       "    <tr>\n",
       "      <th>3</th>\n",
       "      <td>treatment</td>\n",
       "      <td>81606</td>\n",
       "    </tr>\n",
       "    <tr>\n",
       "      <th>4</th>\n",
       "      <td>tumor</td>\n",
       "      <td>79065</td>\n",
       "    </tr>\n",
       "    <tr>\n",
       "      <th>5</th>\n",
       "      <td>cell</td>\n",
       "      <td>73531</td>\n",
       "    </tr>\n",
       "    <tr>\n",
       "      <th>6</th>\n",
       "      <td>result</td>\n",
       "      <td>65202</td>\n",
       "    </tr>\n",
       "    <tr>\n",
       "      <th>7</th>\n",
       "      <td>survival</td>\n",
       "      <td>61510</td>\n",
       "    </tr>\n",
       "    <tr>\n",
       "      <th>8</th>\n",
       "      <td>use</td>\n",
       "      <td>60708</td>\n",
       "    </tr>\n",
       "    <tr>\n",
       "      <th>9</th>\n",
       "      <td>stage</td>\n",
       "      <td>58352</td>\n",
       "    </tr>\n",
       "    <tr>\n",
       "      <th>10</th>\n",
       "      <td>breast</td>\n",
       "      <td>56893</td>\n",
       "    </tr>\n",
       "    <tr>\n",
       "      <th>11</th>\n",
       "      <td>carcinoma</td>\n",
       "      <td>56567</td>\n",
       "    </tr>\n",
       "    <tr>\n",
       "      <th>12</th>\n",
       "      <td>prostate</td>\n",
       "      <td>54785</td>\n",
       "    </tr>\n",
       "    <tr>\n",
       "      <th>13</th>\n",
       "      <td>year</td>\n",
       "      <td>54162</td>\n",
       "    </tr>\n",
       "    <tr>\n",
       "      <th>14</th>\n",
       "      <td>case</td>\n",
       "      <td>52626</td>\n",
       "    </tr>\n",
       "    <tr>\n",
       "      <th>15</th>\n",
       "      <td>p</td>\n",
       "      <td>51908</td>\n",
       "    </tr>\n",
       "    <tr>\n",
       "      <th>16</th>\n",
       "      <td>lung</td>\n",
       "      <td>50631</td>\n",
       "    </tr>\n",
       "    <tr>\n",
       "      <th>17</th>\n",
       "      <td>thyroid</td>\n",
       "      <td>49687</td>\n",
       "    </tr>\n",
       "    <tr>\n",
       "      <th>18</th>\n",
       "      <td>disease</td>\n",
       "      <td>49097</td>\n",
       "    </tr>\n",
       "    <tr>\n",
       "      <th>19</th>\n",
       "      <td>risk</td>\n",
       "      <td>47969</td>\n",
       "    </tr>\n",
       "  </tbody>\n",
       "</table>\n",
       "</div>"
      ],
      "text/plain": [
       "       Tokens  Frequency\n",
       "0      cancer     393778\n",
       "1     patient     242009\n",
       "2       study      82971\n",
       "3   treatment      81606\n",
       "4       tumor      79065\n",
       "5        cell      73531\n",
       "6      result      65202\n",
       "7    survival      61510\n",
       "8         use      60708\n",
       "9       stage      58352\n",
       "10     breast      56893\n",
       "11  carcinoma      56567\n",
       "12   prostate      54785\n",
       "13       year      54162\n",
       "14       case      52626\n",
       "15          p      51908\n",
       "16       lung      50631\n",
       "17    thyroid      49687\n",
       "18    disease      49097\n",
       "19       risk      47969"
      ]
     },
     "execution_count": 13,
     "metadata": {},
     "output_type": "execute_result"
    }
   ],
   "source": [
    "import pandas as pd\n",
    "\n",
    "file = '../Output/Multi_Line/PubMed_Top1-10_Title_Abstract_NumCommonTokens_20_NoStopword_Lemmatization.csv'\n",
    "\n",
    "PubMed_Title_Abstract_20_NoStopword_Lemma = pd.read_csv(file, delimiter=',')\n",
    "PubMed_Title_Abstract_20_NoStopword_Lemma"
   ]
  },
  {
   "cell_type": "markdown",
   "metadata": {},
   "source": [
    "<h1>Comparison</h1>"
   ]
  },
  {
   "cell_type": "code",
   "execution_count": 26,
   "metadata": {},
   "outputs": [
    {
     "data": {
      "text/html": [
       "<div>\n",
       "<style scoped>\n",
       "    .dataframe tbody tr th:only-of-type {\n",
       "        vertical-align: middle;\n",
       "    }\n",
       "\n",
       "    .dataframe tbody tr th {\n",
       "        vertical-align: top;\n",
       "    }\n",
       "\n",
       "    .dataframe thead th {\n",
       "        text-align: right;\n",
       "    }\n",
       "</style>\n",
       "<table border=\"1\" class=\"dataframe\">\n",
       "  <thead>\n",
       "    <tr style=\"text-align: right;\">\n",
       "      <th></th>\n",
       "      <th>Tokens_Before_Lemma</th>\n",
       "      <th>Frequency_Before_Lemma</th>\n",
       "    </tr>\n",
       "  </thead>\n",
       "  <tbody>\n",
       "    <tr>\n",
       "      <th>0</th>\n",
       "      <td>cancer</td>\n",
       "      <td>371960</td>\n",
       "    </tr>\n",
       "    <tr>\n",
       "      <th>1</th>\n",
       "      <td>patients</td>\n",
       "      <td>218811</td>\n",
       "    </tr>\n",
       "    <tr>\n",
       "      <th>2</th>\n",
       "      <td>treatment</td>\n",
       "      <td>76510</td>\n",
       "    </tr>\n",
       "    <tr>\n",
       "      <th>3</th>\n",
       "      <td>survival</td>\n",
       "      <td>61037</td>\n",
       "    </tr>\n",
       "    <tr>\n",
       "      <th>4</th>\n",
       "      <td>breast</td>\n",
       "      <td>56685</td>\n",
       "    </tr>\n",
       "    <tr>\n",
       "      <th>5</th>\n",
       "      <td>results</td>\n",
       "      <td>56614</td>\n",
       "    </tr>\n",
       "    <tr>\n",
       "      <th>6</th>\n",
       "      <td>tumor</td>\n",
       "      <td>54674</td>\n",
       "    </tr>\n",
       "    <tr>\n",
       "      <th>7</th>\n",
       "      <td>prostate</td>\n",
       "      <td>54671</td>\n",
       "    </tr>\n",
       "    <tr>\n",
       "      <th>8</th>\n",
       "      <td>p</td>\n",
       "      <td>51908</td>\n",
       "    </tr>\n",
       "    <tr>\n",
       "      <th>9</th>\n",
       "      <td>study</td>\n",
       "      <td>51109</td>\n",
       "    </tr>\n",
       "    <tr>\n",
       "      <th>10</th>\n",
       "      <td>lung</td>\n",
       "      <td>50181</td>\n",
       "    </tr>\n",
       "    <tr>\n",
       "      <th>11</th>\n",
       "      <td>thyroid</td>\n",
       "      <td>49613</td>\n",
       "    </tr>\n",
       "    <tr>\n",
       "      <th>12</th>\n",
       "      <td>carcinoma</td>\n",
       "      <td>49487</td>\n",
       "    </tr>\n",
       "    <tr>\n",
       "      <th>13</th>\n",
       "      <td>bladder</td>\n",
       "      <td>46974</td>\n",
       "    </tr>\n",
       "    <tr>\n",
       "      <th>14</th>\n",
       "      <td>risk</td>\n",
       "      <td>45442</td>\n",
       "    </tr>\n",
       "    <tr>\n",
       "      <th>15</th>\n",
       "      <td>disease</td>\n",
       "      <td>44958</td>\n",
       "    </tr>\n",
       "    <tr>\n",
       "      <th>16</th>\n",
       "      <td>colorectal</td>\n",
       "      <td>43443</td>\n",
       "    </tr>\n",
       "    <tr>\n",
       "      <th>17</th>\n",
       "      <td>clinical</td>\n",
       "      <td>41157</td>\n",
       "    </tr>\n",
       "    <tr>\n",
       "      <th>18</th>\n",
       "      <td>cell</td>\n",
       "      <td>40293</td>\n",
       "    </tr>\n",
       "    <tr>\n",
       "      <th>19</th>\n",
       "      <td>cases</td>\n",
       "      <td>39900</td>\n",
       "    </tr>\n",
       "  </tbody>\n",
       "</table>\n",
       "</div>"
      ],
      "text/plain": [
       "   Tokens_Before_Lemma  Frequency_Before_Lemma\n",
       "0               cancer                  371960\n",
       "1             patients                  218811\n",
       "2            treatment                   76510\n",
       "3             survival                   61037\n",
       "4               breast                   56685\n",
       "5              results                   56614\n",
       "6                tumor                   54674\n",
       "7             prostate                   54671\n",
       "8                    p                   51908\n",
       "9                study                   51109\n",
       "10                lung                   50181\n",
       "11             thyroid                   49613\n",
       "12           carcinoma                   49487\n",
       "13             bladder                   46974\n",
       "14                risk                   45442\n",
       "15             disease                   44958\n",
       "16          colorectal                   43443\n",
       "17            clinical                   41157\n",
       "18                cell                   40293\n",
       "19               cases                   39900"
      ]
     },
     "execution_count": 26,
     "metadata": {},
     "output_type": "execute_result"
    }
   ],
   "source": [
    "import pandas as pd\n",
    "\n",
    "Before_Lemma_File = '../Output/Multi_Line/PubMed_Top1-10_Title_Abstract_NumCommonTokens_20_NoStopword.csv'\n",
    "\n",
    "PubMed_Title_Abstract_20_NoStopword = pd.read_csv(Before_Lemma_File, delimiter=',')\n",
    "PubMed_Title_Abstract_20_NoStopword = pd.DataFrame(PubMed_Title_Abstract_20_NoStopword, columns=['Tokens','Frequency'])\n",
    "PubMed_Title_Abstract_20_NoStopword = PubMed_Title_Abstract_20_NoStopword.rename(columns={'Tokens': 'Tokens_Before_Lemma', 'Frequency': 'Frequency_Before_Lemma'})\n",
    "PubMed_Title_Abstract_20_NoStopword"
   ]
  },
  {
   "cell_type": "code",
   "execution_count": 30,
   "metadata": {},
   "outputs": [
    {
     "data": {
      "text/html": [
       "<div>\n",
       "<style scoped>\n",
       "    .dataframe tbody tr th:only-of-type {\n",
       "        vertical-align: middle;\n",
       "    }\n",
       "\n",
       "    .dataframe tbody tr th {\n",
       "        vertical-align: top;\n",
       "    }\n",
       "\n",
       "    .dataframe thead th {\n",
       "        text-align: right;\n",
       "    }\n",
       "</style>\n",
       "<table border=\"1\" class=\"dataframe\">\n",
       "  <thead>\n",
       "    <tr style=\"text-align: right;\">\n",
       "      <th></th>\n",
       "      <th>Tokens_After_Lemma</th>\n",
       "      <th>Frequency_After_Lemma</th>\n",
       "    </tr>\n",
       "  </thead>\n",
       "  <tbody>\n",
       "    <tr>\n",
       "      <th>0</th>\n",
       "      <td>cancer</td>\n",
       "      <td>393778</td>\n",
       "    </tr>\n",
       "    <tr>\n",
       "      <th>1</th>\n",
       "      <td>patient</td>\n",
       "      <td>242009</td>\n",
       "    </tr>\n",
       "    <tr>\n",
       "      <th>2</th>\n",
       "      <td>study</td>\n",
       "      <td>82971</td>\n",
       "    </tr>\n",
       "    <tr>\n",
       "      <th>3</th>\n",
       "      <td>treatment</td>\n",
       "      <td>81606</td>\n",
       "    </tr>\n",
       "    <tr>\n",
       "      <th>4</th>\n",
       "      <td>tumor</td>\n",
       "      <td>79065</td>\n",
       "    </tr>\n",
       "    <tr>\n",
       "      <th>5</th>\n",
       "      <td>cell</td>\n",
       "      <td>73531</td>\n",
       "    </tr>\n",
       "    <tr>\n",
       "      <th>6</th>\n",
       "      <td>result</td>\n",
       "      <td>65202</td>\n",
       "    </tr>\n",
       "    <tr>\n",
       "      <th>7</th>\n",
       "      <td>survival</td>\n",
       "      <td>61510</td>\n",
       "    </tr>\n",
       "    <tr>\n",
       "      <th>8</th>\n",
       "      <td>use</td>\n",
       "      <td>60708</td>\n",
       "    </tr>\n",
       "    <tr>\n",
       "      <th>9</th>\n",
       "      <td>stage</td>\n",
       "      <td>58352</td>\n",
       "    </tr>\n",
       "    <tr>\n",
       "      <th>10</th>\n",
       "      <td>breast</td>\n",
       "      <td>56893</td>\n",
       "    </tr>\n",
       "    <tr>\n",
       "      <th>11</th>\n",
       "      <td>carcinoma</td>\n",
       "      <td>56567</td>\n",
       "    </tr>\n",
       "    <tr>\n",
       "      <th>12</th>\n",
       "      <td>prostate</td>\n",
       "      <td>54785</td>\n",
       "    </tr>\n",
       "    <tr>\n",
       "      <th>13</th>\n",
       "      <td>year</td>\n",
       "      <td>54162</td>\n",
       "    </tr>\n",
       "    <tr>\n",
       "      <th>14</th>\n",
       "      <td>case</td>\n",
       "      <td>52626</td>\n",
       "    </tr>\n",
       "    <tr>\n",
       "      <th>15</th>\n",
       "      <td>p</td>\n",
       "      <td>51908</td>\n",
       "    </tr>\n",
       "    <tr>\n",
       "      <th>16</th>\n",
       "      <td>lung</td>\n",
       "      <td>50631</td>\n",
       "    </tr>\n",
       "    <tr>\n",
       "      <th>17</th>\n",
       "      <td>thyroid</td>\n",
       "      <td>49687</td>\n",
       "    </tr>\n",
       "    <tr>\n",
       "      <th>18</th>\n",
       "      <td>disease</td>\n",
       "      <td>49097</td>\n",
       "    </tr>\n",
       "    <tr>\n",
       "      <th>19</th>\n",
       "      <td>risk</td>\n",
       "      <td>47969</td>\n",
       "    </tr>\n",
       "  </tbody>\n",
       "</table>\n",
       "</div>"
      ],
      "text/plain": [
       "   Tokens_After_Lemma  Frequency_After_Lemma\n",
       "0              cancer                 393778\n",
       "1             patient                 242009\n",
       "2               study                  82971\n",
       "3           treatment                  81606\n",
       "4               tumor                  79065\n",
       "5                cell                  73531\n",
       "6              result                  65202\n",
       "7            survival                  61510\n",
       "8                 use                  60708\n",
       "9               stage                  58352\n",
       "10             breast                  56893\n",
       "11          carcinoma                  56567\n",
       "12           prostate                  54785\n",
       "13               year                  54162\n",
       "14               case                  52626\n",
       "15                  p                  51908\n",
       "16               lung                  50631\n",
       "17            thyroid                  49687\n",
       "18            disease                  49097\n",
       "19               risk                  47969"
      ]
     },
     "execution_count": 30,
     "metadata": {},
     "output_type": "execute_result"
    }
   ],
   "source": [
    "After_Lemma_File = '../Output/Multi_Line/PubMed_Top1-10_Title_Abstract_NumCommonTokens_20_NoStopword_Lemmatization.csv'\n",
    "\n",
    "PubMed_Title_Abstract_20_NoStopword_Lemma = pd.read_csv(After_Lemma_File, delimiter=',')\n",
    "PubMed_Title_Abstract_20_NoStopword_Lemma = pd.DataFrame(PubMed_Title_Abstract_20_NoStopword_Lemma, columns=['Tokens','Frequency'])\n",
    "PubMed_Title_Abstract_20_NoStopword_Lemma = PubMed_Title_Abstract_20_NoStopword_Lemma.rename(columns={'Tokens': 'Tokens_After_Lemma', 'Frequency': 'Frequency_After_Lemma'})\n",
    "PubMed_Title_Abstract_20_NoStopword_Lemma"
   ]
  },
  {
   "cell_type": "code",
   "execution_count": 31,
   "metadata": {},
   "outputs": [
    {
     "data": {
      "text/html": [
       "<div>\n",
       "<style scoped>\n",
       "    .dataframe tbody tr th:only-of-type {\n",
       "        vertical-align: middle;\n",
       "    }\n",
       "\n",
       "    .dataframe tbody tr th {\n",
       "        vertical-align: top;\n",
       "    }\n",
       "\n",
       "    .dataframe thead th {\n",
       "        text-align: right;\n",
       "    }\n",
       "</style>\n",
       "<table border=\"1\" class=\"dataframe\">\n",
       "  <thead>\n",
       "    <tr style=\"text-align: right;\">\n",
       "      <th></th>\n",
       "      <th>Tokens_Before_Lemma</th>\n",
       "      <th>Frequency_Before_Lemma</th>\n",
       "      <th>Tokens_After_Lemma</th>\n",
       "      <th>Frequency_After_Lemma</th>\n",
       "    </tr>\n",
       "  </thead>\n",
       "  <tbody>\n",
       "    <tr>\n",
       "      <th>0</th>\n",
       "      <td>cancer</td>\n",
       "      <td>371960</td>\n",
       "      <td>cancer</td>\n",
       "      <td>393778</td>\n",
       "    </tr>\n",
       "    <tr>\n",
       "      <th>1</th>\n",
       "      <td>patients</td>\n",
       "      <td>218811</td>\n",
       "      <td>patient</td>\n",
       "      <td>242009</td>\n",
       "    </tr>\n",
       "    <tr>\n",
       "      <th>2</th>\n",
       "      <td>treatment</td>\n",
       "      <td>76510</td>\n",
       "      <td>study</td>\n",
       "      <td>82971</td>\n",
       "    </tr>\n",
       "    <tr>\n",
       "      <th>3</th>\n",
       "      <td>survival</td>\n",
       "      <td>61037</td>\n",
       "      <td>treatment</td>\n",
       "      <td>81606</td>\n",
       "    </tr>\n",
       "    <tr>\n",
       "      <th>4</th>\n",
       "      <td>breast</td>\n",
       "      <td>56685</td>\n",
       "      <td>tumor</td>\n",
       "      <td>79065</td>\n",
       "    </tr>\n",
       "    <tr>\n",
       "      <th>5</th>\n",
       "      <td>results</td>\n",
       "      <td>56614</td>\n",
       "      <td>cell</td>\n",
       "      <td>73531</td>\n",
       "    </tr>\n",
       "    <tr>\n",
       "      <th>6</th>\n",
       "      <td>tumor</td>\n",
       "      <td>54674</td>\n",
       "      <td>result</td>\n",
       "      <td>65202</td>\n",
       "    </tr>\n",
       "    <tr>\n",
       "      <th>7</th>\n",
       "      <td>prostate</td>\n",
       "      <td>54671</td>\n",
       "      <td>survival</td>\n",
       "      <td>61510</td>\n",
       "    </tr>\n",
       "    <tr>\n",
       "      <th>8</th>\n",
       "      <td>p</td>\n",
       "      <td>51908</td>\n",
       "      <td>use</td>\n",
       "      <td>60708</td>\n",
       "    </tr>\n",
       "    <tr>\n",
       "      <th>9</th>\n",
       "      <td>study</td>\n",
       "      <td>51109</td>\n",
       "      <td>stage</td>\n",
       "      <td>58352</td>\n",
       "    </tr>\n",
       "    <tr>\n",
       "      <th>10</th>\n",
       "      <td>lung</td>\n",
       "      <td>50181</td>\n",
       "      <td>breast</td>\n",
       "      <td>56893</td>\n",
       "    </tr>\n",
       "    <tr>\n",
       "      <th>11</th>\n",
       "      <td>thyroid</td>\n",
       "      <td>49613</td>\n",
       "      <td>carcinoma</td>\n",
       "      <td>56567</td>\n",
       "    </tr>\n",
       "    <tr>\n",
       "      <th>12</th>\n",
       "      <td>carcinoma</td>\n",
       "      <td>49487</td>\n",
       "      <td>prostate</td>\n",
       "      <td>54785</td>\n",
       "    </tr>\n",
       "    <tr>\n",
       "      <th>13</th>\n",
       "      <td>bladder</td>\n",
       "      <td>46974</td>\n",
       "      <td>year</td>\n",
       "      <td>54162</td>\n",
       "    </tr>\n",
       "    <tr>\n",
       "      <th>14</th>\n",
       "      <td>risk</td>\n",
       "      <td>45442</td>\n",
       "      <td>case</td>\n",
       "      <td>52626</td>\n",
       "    </tr>\n",
       "    <tr>\n",
       "      <th>15</th>\n",
       "      <td>disease</td>\n",
       "      <td>44958</td>\n",
       "      <td>p</td>\n",
       "      <td>51908</td>\n",
       "    </tr>\n",
       "    <tr>\n",
       "      <th>16</th>\n",
       "      <td>colorectal</td>\n",
       "      <td>43443</td>\n",
       "      <td>lung</td>\n",
       "      <td>50631</td>\n",
       "    </tr>\n",
       "    <tr>\n",
       "      <th>17</th>\n",
       "      <td>clinical</td>\n",
       "      <td>41157</td>\n",
       "      <td>thyroid</td>\n",
       "      <td>49687</td>\n",
       "    </tr>\n",
       "    <tr>\n",
       "      <th>18</th>\n",
       "      <td>cell</td>\n",
       "      <td>40293</td>\n",
       "      <td>disease</td>\n",
       "      <td>49097</td>\n",
       "    </tr>\n",
       "    <tr>\n",
       "      <th>19</th>\n",
       "      <td>cases</td>\n",
       "      <td>39900</td>\n",
       "      <td>risk</td>\n",
       "      <td>47969</td>\n",
       "    </tr>\n",
       "  </tbody>\n",
       "</table>\n",
       "</div>"
      ],
      "text/plain": [
       "   Tokens_Before_Lemma  Frequency_Before_Lemma Tokens_After_Lemma  \\\n",
       "0               cancer                  371960             cancer   \n",
       "1             patients                  218811            patient   \n",
       "2            treatment                   76510              study   \n",
       "3             survival                   61037          treatment   \n",
       "4               breast                   56685              tumor   \n",
       "5              results                   56614               cell   \n",
       "6                tumor                   54674             result   \n",
       "7             prostate                   54671           survival   \n",
       "8                    p                   51908                use   \n",
       "9                study                   51109              stage   \n",
       "10                lung                   50181             breast   \n",
       "11             thyroid                   49613          carcinoma   \n",
       "12           carcinoma                   49487           prostate   \n",
       "13             bladder                   46974               year   \n",
       "14                risk                   45442               case   \n",
       "15             disease                   44958                  p   \n",
       "16          colorectal                   43443               lung   \n",
       "17            clinical                   41157            thyroid   \n",
       "18                cell                   40293            disease   \n",
       "19               cases                   39900               risk   \n",
       "\n",
       "    Frequency_After_Lemma  \n",
       "0                  393778  \n",
       "1                  242009  \n",
       "2                   82971  \n",
       "3                   81606  \n",
       "4                   79065  \n",
       "5                   73531  \n",
       "6                   65202  \n",
       "7                   61510  \n",
       "8                   60708  \n",
       "9                   58352  \n",
       "10                  56893  \n",
       "11                  56567  \n",
       "12                  54785  \n",
       "13                  54162  \n",
       "14                  52626  \n",
       "15                  51908  \n",
       "16                  50631  \n",
       "17                  49687  \n",
       "18                  49097  \n",
       "19                  47969  "
      ]
     },
     "execution_count": 31,
     "metadata": {},
     "output_type": "execute_result"
    }
   ],
   "source": [
    "PubMed_MultiLine_20 = pd.DataFrame(PubMed_Title_Abstract_20_NoStopword)\n",
    "PubMed_MultiLine_20['Tokens_After_Lemma'] = PubMed_Title_Abstract_20_NoStopword_Lemma['Tokens_After_Lemma']\n",
    "PubMed_MultiLine_20['Frequency_After_Lemma'] = PubMed_Title_Abstract_20_NoStopword_Lemma['Frequency_After_Lemma']\n",
    "PubMed_MultiLine_20"
   ]
  }
 ],
 "metadata": {
  "colab": {
   "collapsed_sections": [],
   "name": "Home Work I (multi line).ipynb",
   "provenance": []
  },
  "kernelspec": {
   "display_name": "Python 3",
   "language": "python",
   "name": "python3"
  },
  "language_info": {
   "codemirror_mode": {
    "name": "ipython",
    "version": 3
   },
   "file_extension": ".py",
   "mimetype": "text/x-python",
   "name": "python",
   "nbconvert_exporter": "python",
   "pygments_lexer": "ipython3",
   "version": "3.7.4"
  }
 },
 "nbformat": 4,
 "nbformat_minor": 1
}
