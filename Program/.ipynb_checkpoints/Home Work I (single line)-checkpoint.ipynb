{
 "cells": [
  {
   "cell_type": "markdown",
   "metadata": {
    "id": "92wHs0tQDGcU"
   },
   "source": [
    "<h1>Text Preprocessing</h1>"
   ]
  },
  {
   "cell_type": "markdown",
   "metadata": {
    "id": "Q-ztfCMoDGcV"
   },
   "source": [
    "<p>First, declare the things needed. In this case, I collected journals from Top 10 cancer defined below. So I need the cancer types, the name of the source files, and the name of the output files I will going to make.</p>"
   ]
  },
  {
   "cell_type": "code",
   "execution_count": 1,
   "metadata": {
    "colab": {
     "base_uri": "https://localhost:8080/",
     "height": 34
    },
    "executionInfo": {
     "elapsed": 33451,
     "status": "ok",
     "timestamp": 1603763830903,
     "user": {
      "displayName": "Kholishotul A",
      "photoUrl": "https://lh3.googleusercontent.com/a-/AOh14GiG9CzvSfsmH8B8XGHlsMch6uTzbKddEqvdPgkO=s64",
      "userId": "05198186454443169271"
     },
     "user_tz": -420
    },
    "id": "jIKqEpQuNThR",
    "outputId": "caa36e7c-eec8-4a9d-9ffd-1156ff3481e1"
   },
   "outputs": [
    {
     "name": "stdout",
     "output_type": "stream",
     "text": [
      "Mounted at /content/drive\n"
     ]
    }
   ],
   "source": [
    "'''\n",
    "from google.colab import drive\n",
    "drive.mount('/content/drive')\n",
    "'''"
   ]
  },
  {
   "cell_type": "code",
   "execution_count": 1,
   "metadata": {
    "executionInfo": {
     "elapsed": 33446,
     "status": "ok",
     "timestamp": 1603763830904,
     "user": {
      "displayName": "Kholishotul A",
      "photoUrl": "https://lh3.googleusercontent.com/a-/AOh14GiG9CzvSfsmH8B8XGHlsMch6uTzbKddEqvdPgkO=s64",
      "userId": "05198186454443169271"
     },
     "user_tz": -420
    },
    "id": "lNU7A1WKDGcW"
   },
   "outputs": [],
   "source": [
    "CancerType = ['Lung',\n",
    "              'Breast',\n",
    "              'Colorectal',\n",
    "              'Prostate',\n",
    "              'Stomach',\n",
    "              'Liver',\n",
    "              'Oesophagus',\n",
    "              'Cervix Uteri',\n",
    "              'Thyroid',\n",
    "              'Bladder']\n",
    "\n",
    "InputFile = ['../Src/pubmed-Top1-lungcancer-set.txt',\n",
    "             '../Src/pubmed-Top2-Breastcanc-set.txt',\n",
    "             '../Src/pubmed-Top3-Colorectal-set.txt',\n",
    "             '../Src/pubmed-Top4-prostateca-set.txt',\n",
    "             '../Src/pubmed-Top5-stomachcan-set.txt',\n",
    "             '../Src/pubmed-Top6-livercance-set.txt',\n",
    "             '../Src/pubmed-Top7-oesophagus-set.txt',\n",
    "             '../Src/pubmed-Top8-Cervixuter-set.txt',\n",
    "             '../Src/pubmed-Top9-Thyroidcan-set.txt',\n",
    "             '../Src/pubmed-Top10-Bladdercan-set.txt']\n",
    "\n",
    "OutputFile = ['../Output/Single_Line/pubmed-Top1-lungcancer-set_Output.xlsx',\n",
    "              '../Output/Single_Line/pubmed-Top2-Breastcanc-set_Output.xlsx',\n",
    "              '../Output/Single_Line/pubmed-Top3-Colorectal-set_Output.xlsx',\n",
    "              '../Output/Single_Line/pubmed-Top4-prostateca-set_Output.xlsx',\n",
    "              '../Output/Single_Line/pubmed-Top5-stomachcan-set_Output.xlsx',\n",
    "              '../Output/Single_Line/pubmed-Top6-livercance-set_Output.xlsx',\n",
    "              '../Output/Single_Line/pubmed-Top7-oesophagus-set_Output.xlsx',\n",
    "              '../Output/Single_Line/pubmed-Top8-Cervixuter-set_Output.xlsx',\n",
    "              '../Output/Single_Line/pubmed-Top9-Thyroidcan-set_Output.xlsx',\n",
    "              '../Output/Single_Line/pubmed-Top10-Bladdercan-set_Output.xlsx']"
   ]
  },
  {
   "cell_type": "markdown",
   "metadata": {
    "id": "fCDc-rKODGca"
   },
   "source": [
    "<p>Then, I need to collect the PubMed ID, the title, and the abstract of each journal for each type of cancer. To differentiate the cancer type, I add CancerType column to the result. After that, put the result in the output file's name declared before.</p>"
   ]
  },
  {
   "cell_type": "code",
   "execution_count": 3,
   "metadata": {
    "colab": {
     "base_uri": "https://localhost:8080/",
     "height": 54
    },
    "executionInfo": {
     "elapsed": 79484,
     "status": "ok",
     "timestamp": 1603763876950,
     "user": {
      "displayName": "Kholishotul A",
      "photoUrl": "https://lh3.googleusercontent.com/a-/AOh14GiG9CzvSfsmH8B8XGHlsMch6uTzbKddEqvdPgkO=s64",
      "userId": "05198186454443169271"
     },
     "user_tz": -420
    },
    "id": "1h8iu8vGDGcb",
    "outputId": "1969ed2a-9a4d-4519-e664-2e217cefb46b"
   },
   "outputs": [
    {
     "name": "stdout",
     "output_type": "stream",
     "text": [
      "['pubmed-Top1-lungcancer-set_Output.xlsx', 'pubmed-Top10-Bladdercan-set_Output.xlsx', 'pubmed-Top2-Breastcanc-set_Output.xlsx', 'pubmed-Top3-Colorectal-set_Output.xlsx', 'pubmed-Top4-prostateca-set_Output.xlsx', 'pubmed-Top5-stomachcan-set_Output.xlsx', 'pubmed-Top6-livercance-set_Output.xlsx', 'pubmed-Top7-oesophagus-set_Output.xlsx', 'pubmed-Top8-Cervixuter-set_Output.xlsx', 'pubmed-Top9-Thyroidcan-set_Output.xlsx']\n"
     ]
    }
   ],
   "source": [
    "for x in range(len(CancerType)):\n",
    "    with open (InputFile[x], 'r',encoding=\"utf-8\") as file_input:\n",
    "        Lines = file_input.readlines()\n",
    "        #print (Lines)\n",
    "    cnt = 0\n",
    "    LineIndex = 0\n",
    "    PMID_LineIndex = []\n",
    "    for OneLine in Lines:\n",
    "        LineIndex = LineIndex + 1\n",
    "        if (OneLine.startswith('PMID-')):\n",
    "            cnt = cnt +1\n",
    "            PMID_LineIndex.append(LineIndex)\n",
    "    PMID_LineIndex.append(LineIndex)\n",
    "\n",
    "    PUMID_List = []\n",
    "    TI_List = []\n",
    "    AB_List = []\n",
    "\n",
    "    with open (InputFile[x], 'r',encoding=\"utf-8\") as file_input:\n",
    "        for i in range(0,cnt):\n",
    "            StartLineIndex = PMID_LineIndex[i]\n",
    "            EndLineIndex = PMID_LineIndex[i+1]\n",
    "            OnePUMID = []\n",
    "            for j in range(StartLineIndex,EndLineIndex):\n",
    "                OneLine = file_input.readline()\n",
    "                OneLine = OneLine.strip()\n",
    "                #print(OneLine)\n",
    "                OnePUMID.append(OneLine)\n",
    "            #print(len(OnePUMID))\n",
    "            #print(OnePUMID)\n",
    "            for k in range(len(OnePUMID)):\n",
    "                if (OnePUMID[k].startswith('PMID-')):\n",
    "                    OnePUMID_Info = OnePUMID[k].split('- ')\n",
    "                    #print(str(k)+' PMID:'+OnePUMID_Info[1])\n",
    "                if (OnePUMID[k].startswith('TI  -')):\n",
    "                    OneTI_Info = OnePUMID[k].split('- ')\n",
    "                    #print(str(k)+' TI:'+OneTI_Info[1])\n",
    "                if (OnePUMID[k].startswith('AB  -')):\n",
    "                    if (len(OnePUMID[k]) <= 5):\n",
    "                        OneAB_Info = ''\n",
    "                    else:\n",
    "                        OneAB_Info = OnePUMID[k].split('- ')\n",
    "                        OneAB_Info = OneAB_Info[1].strip()\n",
    "                    #print(str(i) + \"=>\" + OneAB_Info)\n",
    "            PUMID_List.append(OnePUMID_Info[1].strip())\n",
    "            TI_List.append(OneTI_Info[1].strip())\n",
    "            AB_List.append(OneAB_Info)\n",
    "    #print(len(PUMID_List))\n",
    "    #print(len(TI_List))\n",
    "    #print(len(AB_List))\n",
    "    PubMed_Data = [[PUMID_List[i],TI_List[i],AB_List[i]] for i in range(cnt)]\n",
    "    PubMed_Data\n",
    "\n",
    "    import pandas as pd\n",
    "\n",
    "    PubMed = pd.DataFrame(PubMed_Data, columns=['PUMID','Title','Abstract'])\n",
    "    #PubMed\n",
    "\n",
    "    PubMed['CancerType'] = CancerType[x]\n",
    "\n",
    "    PubMed.to_excel(OutputFile[x])\n",
    "\n",
    "from os import listdir\n",
    "print(listdir('../Output/Single_Line'))"
   ]
  },
  {
   "cell_type": "markdown",
   "metadata": {
    "id": "nSaXF7sFDGcg"
   },
   "source": [
    "<p>Then I gathered all the output files in to 1 file</p>"
   ]
  },
  {
   "cell_type": "code",
   "execution_count": 4,
   "metadata": {
    "colab": {
     "base_uri": "https://localhost:8080/",
     "height": 402
    },
    "executionInfo": {
     "elapsed": 7994,
     "status": "ok",
     "timestamp": 1603763910639,
     "user": {
      "displayName": "Kholishotul A",
      "photoUrl": "https://lh3.googleusercontent.com/a-/AOh14GiG9CzvSfsmH8B8XGHlsMch6uTzbKddEqvdPgkO=s64",
      "userId": "05198186454443169271"
     },
     "user_tz": -420
    },
    "id": "_VAdfOgtDGcg",
    "outputId": "74ff3b09-a19b-4512-c32a-2b684117b846"
   },
   "outputs": [
    {
     "data": {
      "text/html": [
       "<div>\n",
       "<style scoped>\n",
       "    .dataframe tbody tr th:only-of-type {\n",
       "        vertical-align: middle;\n",
       "    }\n",
       "\n",
       "    .dataframe tbody tr th {\n",
       "        vertical-align: top;\n",
       "    }\n",
       "\n",
       "    .dataframe thead th {\n",
       "        text-align: right;\n",
       "    }\n",
       "</style>\n",
       "<table border=\"1\" class=\"dataframe\">\n",
       "  <thead>\n",
       "    <tr style=\"text-align: right;\">\n",
       "      <th></th>\n",
       "      <th>Unnamed: 0</th>\n",
       "      <th>PUMID</th>\n",
       "      <th>Title</th>\n",
       "      <th>Abstract</th>\n",
       "      <th>CancerType</th>\n",
       "    </tr>\n",
       "  </thead>\n",
       "  <tbody>\n",
       "    <tr>\n",
       "      <th>0</th>\n",
       "      <td>0</td>\n",
       "      <td>29790681</td>\n",
       "      <td>Multiple primary lung cancer: A literature rev...</td>\n",
       "      <td>Nowadays, lung cancer is a leading cause of de...</td>\n",
       "      <td>Lung</td>\n",
       "    </tr>\n",
       "    <tr>\n",
       "      <th>1</th>\n",
       "      <td>1</td>\n",
       "      <td>27261907</td>\n",
       "      <td>Epidemiology of Lung Cancer.</td>\n",
       "      <td>Lung cancer has been transformed from a rare d...</td>\n",
       "      <td>Lung</td>\n",
       "    </tr>\n",
       "    <tr>\n",
       "      <th>2</th>\n",
       "      <td>2</td>\n",
       "      <td>29635240</td>\n",
       "      <td>Heterogeneity in Lung Cancer.</td>\n",
       "      <td>Lung cancer diagnosis is a challenge since it ...</td>\n",
       "      <td>Lung</td>\n",
       "    </tr>\n",
       "    <tr>\n",
       "      <th>3</th>\n",
       "      <td>3</td>\n",
       "      <td>30955514</td>\n",
       "      <td>Lung Cancer.</td>\n",
       "      <td>Lung cancer is the world's leading cause of ca...</td>\n",
       "      <td>Lung</td>\n",
       "    </tr>\n",
       "    <tr>\n",
       "      <th>4</th>\n",
       "      <td>4</td>\n",
       "      <td>26667338</td>\n",
       "      <td>Lung Cancer in Never Smokers.</td>\n",
       "      <td>Lung cancer is predominantly associated with c...</td>\n",
       "      <td>Lung</td>\n",
       "    </tr>\n",
       "    <tr>\n",
       "      <th>...</th>\n",
       "      <td>...</td>\n",
       "      <td>...</td>\n",
       "      <td>...</td>\n",
       "      <td>...</td>\n",
       "      <td>...</td>\n",
       "    </tr>\n",
       "    <tr>\n",
       "      <th>9995</th>\n",
       "      <td>9995</td>\n",
       "      <td>1942705</td>\n",
       "      <td>[A clinico-pathological study of 69 cases afte...</td>\n",
       "      <td>A clinico-pathological study was conducted on ...</td>\n",
       "      <td>Bladder</td>\n",
       "    </tr>\n",
       "    <tr>\n",
       "      <th>9996</th>\n",
       "      <td>9996</td>\n",
       "      <td>16325414</td>\n",
       "      <td>Continent urinary diversion.</td>\n",
       "      <td>During the last decade continent urinary diver...</td>\n",
       "      <td>Bladder</td>\n",
       "    </tr>\n",
       "    <tr>\n",
       "      <th>9997</th>\n",
       "      <td>9997</td>\n",
       "      <td>28039452</td>\n",
       "      <td>Preoperative neutrophil-lymphocyte ratio can s...</td>\n",
       "      <td>The prognostic role of systemic inflammatory r...</td>\n",
       "      <td>Bladder</td>\n",
       "    </tr>\n",
       "    <tr>\n",
       "      <th>9998</th>\n",
       "      <td>9998</td>\n",
       "      <td>13687923</td>\n",
       "      <td>[Indication and results of partial bladder res...</td>\n",
       "      <td>The prognostic role of systemic inflammatory r...</td>\n",
       "      <td>Bladder</td>\n",
       "    </tr>\n",
       "    <tr>\n",
       "      <th>9999</th>\n",
       "      <td>9999</td>\n",
       "      <td>9733663</td>\n",
       "      <td>N-glucuronidation of benzidine and its metabol...</td>\n",
       "      <td>Workers exposed to high levels of benzidine ha...</td>\n",
       "      <td>Bladder</td>\n",
       "    </tr>\n",
       "  </tbody>\n",
       "</table>\n",
       "<p>100000 rows × 5 columns</p>\n",
       "</div>"
      ],
      "text/plain": [
       "      Unnamed: 0     PUMID                                              Title  \\\n",
       "0              0  29790681  Multiple primary lung cancer: A literature rev...   \n",
       "1              1  27261907                       Epidemiology of Lung Cancer.   \n",
       "2              2  29635240                      Heterogeneity in Lung Cancer.   \n",
       "3              3  30955514                                       Lung Cancer.   \n",
       "4              4  26667338                      Lung Cancer in Never Smokers.   \n",
       "...          ...       ...                                                ...   \n",
       "9995        9995   1942705  [A clinico-pathological study of 69 cases afte...   \n",
       "9996        9996  16325414                       Continent urinary diversion.   \n",
       "9997        9997  28039452  Preoperative neutrophil-lymphocyte ratio can s...   \n",
       "9998        9998  13687923  [Indication and results of partial bladder res...   \n",
       "9999        9999   9733663  N-glucuronidation of benzidine and its metabol...   \n",
       "\n",
       "                                               Abstract CancerType  \n",
       "0     Nowadays, lung cancer is a leading cause of de...       Lung  \n",
       "1     Lung cancer has been transformed from a rare d...       Lung  \n",
       "2     Lung cancer diagnosis is a challenge since it ...       Lung  \n",
       "3     Lung cancer is the world's leading cause of ca...       Lung  \n",
       "4     Lung cancer is predominantly associated with c...       Lung  \n",
       "...                                                 ...        ...  \n",
       "9995  A clinico-pathological study was conducted on ...    Bladder  \n",
       "9996  During the last decade continent urinary diver...    Bladder  \n",
       "9997  The prognostic role of systemic inflammatory r...    Bladder  \n",
       "9998  The prognostic role of systemic inflammatory r...    Bladder  \n",
       "9999  Workers exposed to high levels of benzidine ha...    Bladder  \n",
       "\n",
       "[100000 rows x 5 columns]"
      ]
     },
     "execution_count": 4,
     "metadata": {},
     "output_type": "execute_result"
    }
   ],
   "source": [
    "import pandas as pd\n",
    "\n",
    "PubMed_Articles = pd.read_excel(OutputFile[0])\n",
    "for i in range (1,len(CancerType)):\n",
    "    OnePubMed_Articles = pd.read_excel(OutputFile[i])\n",
    "    PubMed_Articles = PubMed_Articles.append(OnePubMed_Articles)\n",
    "PubMed_Articles"
   ]
  },
  {
   "cell_type": "code",
   "execution_count": 5,
   "metadata": {
    "executionInfo": {
     "elapsed": 20199,
     "status": "ok",
     "timestamp": 1603763933231,
     "user": {
      "displayName": "Kholishotul A",
      "photoUrl": "https://lh3.googleusercontent.com/a-/AOh14GiG9CzvSfsmH8B8XGHlsMch6uTzbKddEqvdPgkO=s64",
      "userId": "05198186454443169271"
     },
     "user_tz": -420
    },
    "id": "cYEIaFFeDGcj"
   },
   "outputs": [],
   "source": [
    "GatheredOutputFile = \"../Output/Single_Line/pubmed-CancerType_Top1-10-set_Output.xlsx\"\n",
    "PubMed_Articles.to_excel(GatheredOutputFile)"
   ]
  },
  {
   "cell_type": "markdown",
   "metadata": {
    "id": "wvqR7Bk1DGcm"
   },
   "source": [
    "<h1>(60%)(single Line)(No Stopwords): Find the most common 20 words within the \"title\"</h1>"
   ]
  },
  {
   "cell_type": "markdown",
   "metadata": {
    "id": "s17zlm-tDGcm"
   },
   "source": [
    "<p>To get the most common words with no stopwords, I hava to do the tokenization first</p>"
   ]
  },
  {
   "cell_type": "code",
   "execution_count": 6,
   "metadata": {
    "colab": {
     "base_uri": "https://localhost:8080/",
     "height": 54
    },
    "executionInfo": {
     "elapsed": 1127,
     "status": "ok",
     "timestamp": 1603765007804,
     "user": {
      "displayName": "Kholishotul A",
      "photoUrl": "https://lh3.googleusercontent.com/a-/AOh14GiG9CzvSfsmH8B8XGHlsMch6uTzbKddEqvdPgkO=s64",
      "userId": "05198186454443169271"
     },
     "user_tz": -420
    },
    "id": "GRMKHKF8DGcn",
    "outputId": "a72860c7-cfff-4466-ca61-51b89d35d066"
   },
   "outputs": [
    {
     "name": "stdout",
     "output_type": "stream",
     "text": [
      "[['Multiple', 'primary', 'lung', 'cancer:', 'A', 'literature', 'review.'], ['Epidemiology', 'of', 'Lung', 'Cancer.'], ['Heterogeneity', 'in', 'Lung', 'Cancer.'], ['Lung', 'Cancer.'], ['Lung', 'Cancer', 'in', 'Never', 'Smokers.']]\n"
     ]
    }
   ],
   "source": [
    "tokens = [item.split() for item in PubMed_Articles['Title']]\n",
    "print(tokens[:5])"
   ]
  },
  {
   "cell_type": "code",
   "execution_count": 7,
   "metadata": {
    "colab": {
     "base_uri": "https://localhost:8080/",
     "height": 54
    },
    "executionInfo": {
     "elapsed": 752,
     "status": "ok",
     "timestamp": 1603765009221,
     "user": {
      "displayName": "Kholishotul A",
      "photoUrl": "https://lh3.googleusercontent.com/a-/AOh14GiG9CzvSfsmH8B8XGHlsMch6uTzbKddEqvdPgkO=s64",
      "userId": "05198186454443169271"
     },
     "user_tz": -420
    },
    "id": "0p3KJpfMDGcp",
    "outputId": "3efe3e3b-598c-4d4f-aa5a-8632595ce65b"
   },
   "outputs": [
    {
     "name": "stdout",
     "output_type": "stream",
     "text": [
      "['Multiple', 'primary', 'lung', 'cancer:', 'A', 'literature', 'review.', 'Epidemiology', 'of', 'Lung', 'Cancer.', 'Heterogeneity', 'in', 'Lung', 'Cancer.', 'Lung', 'Cancer.', 'Lung', 'Cancer', 'in']\n"
     ]
    }
   ],
   "source": [
    "words = [word for sentence in tokens for word in sentence]\n",
    "print(words[:20])"
   ]
  },
  {
   "cell_type": "code",
   "execution_count": 8,
   "metadata": {
    "colab": {
     "base_uri": "https://localhost:8080/",
     "height": 54
    },
    "executionInfo": {
     "elapsed": 1685,
     "status": "ok",
     "timestamp": 1603765011840,
     "user": {
      "displayName": "Kholishotul A",
      "photoUrl": "https://lh3.googleusercontent.com/a-/AOh14GiG9CzvSfsmH8B8XGHlsMch6uTzbKddEqvdPgkO=s64",
      "userId": "05198186454443169271"
     },
     "user_tz": -420
    },
    "id": "S28j8JsoDGcu",
    "outputId": "a82baba0-ab43-471b-9d81-55781f1d4f11"
   },
   "outputs": [
    {
     "name": "stdout",
     "output_type": "stream",
     "text": [
      "['Multiple', 'primary', 'lung', 'cancer', 'A', 'literature', 'review', 'Epidemiology', 'of', 'Lung', 'Cancer', 'Heterogeneity', 'in', 'Lung', 'Cancer', 'Lung', 'Cancer', 'Lung', 'Cancer', 'in']\n"
     ]
    }
   ],
   "source": [
    "import re\n",
    "words = list(filter(None, [re.sub(r'[^A-Za-z]', '', word) for word in words]))\n",
    "print(words[:20])"
   ]
  },
  {
   "cell_type": "markdown",
   "metadata": {
    "id": "IsWc02UwDGcw"
   },
   "source": [
    "<p>20 normal common tokens</p>"
   ]
  },
  {
   "cell_type": "code",
   "execution_count": 9,
   "metadata": {
    "executionInfo": {
     "elapsed": 906,
     "status": "ok",
     "timestamp": 1603765031210,
     "user": {
      "displayName": "Kholishotul A",
      "photoUrl": "https://lh3.googleusercontent.com/a-/AOh14GiG9CzvSfsmH8B8XGHlsMch6uTzbKddEqvdPgkO=s64",
      "userId": "05198186454443169271"
     },
     "user_tz": -420
    },
    "id": "hfE6wKeeDGcx"
   },
   "outputs": [],
   "source": [
    "from collections import Counter\n",
    "\n",
    "words = [word.lower() for word in words]\n",
    "c = Counter(words)\n",
    "Common_Tokens = c.most_common(20)"
   ]
  },
  {
   "cell_type": "code",
   "execution_count": 10,
   "metadata": {
    "executionInfo": {
     "elapsed": 870,
     "status": "ok",
     "timestamp": 1603765036416,
     "user": {
      "displayName": "Kholishotul A",
      "photoUrl": "https://lh3.googleusercontent.com/a-/AOh14GiG9CzvSfsmH8B8XGHlsMch6uTzbKddEqvdPgkO=s64",
      "userId": "05198186454443169271"
     },
     "user_tz": -420
    },
    "id": "89E6IjozDGcz"
   },
   "outputs": [],
   "source": [
    "Num_Common_Normal = 20\n",
    "Corpus_Src = 'PubMed_Top1-10'\n",
    "Target_Normal = 'Title_NumCommonTokens_' + str(Num_Common_Normal) + '_Normal'\n",
    "OutFile_Normal = '../Output/Single_Line/' + Corpus_Src + '_' + Target_Normal + '.csv'\n",
    "\n",
    "pd.DataFrame(Common_Tokens, columns = ['Tokens', 'Frequency']).to_csv(OutFile_Normal, index=False)"
   ]
  },
  {
   "cell_type": "code",
   "execution_count": 11,
   "metadata": {
    "colab": {
     "base_uri": "https://localhost:8080/",
     "height": 639
    },
    "executionInfo": {
     "elapsed": 1090,
     "status": "ok",
     "timestamp": 1603765057067,
     "user": {
      "displayName": "Kholishotul A",
      "photoUrl": "https://lh3.googleusercontent.com/a-/AOh14GiG9CzvSfsmH8B8XGHlsMch6uTzbKddEqvdPgkO=s64",
      "userId": "05198186454443169271"
     },
     "user_tz": -420
    },
    "id": "t2S0TRgNDGc2",
    "outputId": "2e195bfa-ceb6-45da-b53e-55bafd4ce0c7"
   },
   "outputs": [
    {
     "data": {
      "text/html": [
       "<div>\n",
       "<style scoped>\n",
       "    .dataframe tbody tr th:only-of-type {\n",
       "        vertical-align: middle;\n",
       "    }\n",
       "\n",
       "    .dataframe tbody tr th {\n",
       "        vertical-align: top;\n",
       "    }\n",
       "\n",
       "    .dataframe thead th {\n",
       "        text-align: right;\n",
       "    }\n",
       "</style>\n",
       "<table border=\"1\" class=\"dataframe\">\n",
       "  <thead>\n",
       "    <tr style=\"text-align: right;\">\n",
       "      <th></th>\n",
       "      <th>Tokens</th>\n",
       "      <th>Frequency</th>\n",
       "    </tr>\n",
       "  </thead>\n",
       "  <tbody>\n",
       "    <tr>\n",
       "      <th>0</th>\n",
       "      <td>of</td>\n",
       "      <td>76419</td>\n",
       "    </tr>\n",
       "    <tr>\n",
       "      <th>1</th>\n",
       "      <td>cancer</td>\n",
       "      <td>58981</td>\n",
       "    </tr>\n",
       "    <tr>\n",
       "      <th>2</th>\n",
       "      <td>in</td>\n",
       "      <td>42100</td>\n",
       "    </tr>\n",
       "    <tr>\n",
       "      <th>3</th>\n",
       "      <td>the</td>\n",
       "      <td>37658</td>\n",
       "    </tr>\n",
       "    <tr>\n",
       "      <th>4</th>\n",
       "      <td>and</td>\n",
       "      <td>33765</td>\n",
       "    </tr>\n",
       "    <tr>\n",
       "      <th>5</th>\n",
       "      <td>for</td>\n",
       "      <td>18519</td>\n",
       "    </tr>\n",
       "    <tr>\n",
       "      <th>6</th>\n",
       "      <td>a</td>\n",
       "      <td>15289</td>\n",
       "    </tr>\n",
       "    <tr>\n",
       "      <th>7</th>\n",
       "      <td>with</td>\n",
       "      <td>13623</td>\n",
       "    </tr>\n",
       "    <tr>\n",
       "      <th>8</th>\n",
       "      <td>breast</td>\n",
       "      <td>9511</td>\n",
       "    </tr>\n",
       "    <tr>\n",
       "      <th>9</th>\n",
       "      <td>treatment</td>\n",
       "      <td>8742</td>\n",
       "    </tr>\n",
       "    <tr>\n",
       "      <th>10</th>\n",
       "      <td>lung</td>\n",
       "      <td>8615</td>\n",
       "    </tr>\n",
       "    <tr>\n",
       "      <th>11</th>\n",
       "      <td>prostate</td>\n",
       "      <td>8369</td>\n",
       "    </tr>\n",
       "    <tr>\n",
       "      <th>12</th>\n",
       "      <td>colorectal</td>\n",
       "      <td>8278</td>\n",
       "    </tr>\n",
       "    <tr>\n",
       "      <th>13</th>\n",
       "      <td>thyroid</td>\n",
       "      <td>7878</td>\n",
       "    </tr>\n",
       "    <tr>\n",
       "      <th>14</th>\n",
       "      <td>patients</td>\n",
       "      <td>7791</td>\n",
       "    </tr>\n",
       "    <tr>\n",
       "      <th>15</th>\n",
       "      <td>carcinoma</td>\n",
       "      <td>7727</td>\n",
       "    </tr>\n",
       "    <tr>\n",
       "      <th>16</th>\n",
       "      <td>bladder</td>\n",
       "      <td>7365</td>\n",
       "    </tr>\n",
       "    <tr>\n",
       "      <th>17</th>\n",
       "      <td>to</td>\n",
       "      <td>6796</td>\n",
       "    </tr>\n",
       "    <tr>\n",
       "      <th>18</th>\n",
       "      <td>on</td>\n",
       "      <td>6069</td>\n",
       "    </tr>\n",
       "    <tr>\n",
       "      <th>19</th>\n",
       "      <td>gastric</td>\n",
       "      <td>5252</td>\n",
       "    </tr>\n",
       "  </tbody>\n",
       "</table>\n",
       "</div>"
      ],
      "text/plain": [
       "        Tokens  Frequency\n",
       "0           of      76419\n",
       "1       cancer      58981\n",
       "2           in      42100\n",
       "3          the      37658\n",
       "4          and      33765\n",
       "5          for      18519\n",
       "6            a      15289\n",
       "7         with      13623\n",
       "8       breast       9511\n",
       "9    treatment       8742\n",
       "10        lung       8615\n",
       "11    prostate       8369\n",
       "12  colorectal       8278\n",
       "13     thyroid       7878\n",
       "14    patients       7791\n",
       "15   carcinoma       7727\n",
       "16     bladder       7365\n",
       "17          to       6796\n",
       "18          on       6069\n",
       "19     gastric       5252"
      ]
     },
     "execution_count": 11,
     "metadata": {},
     "output_type": "execute_result"
    }
   ],
   "source": [
    "import pandas as pd\n",
    "\n",
    "file = '../Output/Single_Line/PubMed_Top1-10_Title_NumCommonTokens_20_Normal.csv'\n",
    "\n",
    "PubMed_Title_20_Normal = pd.read_csv(file, delimiter=',')\n",
    "PubMed_Title_20_Normal"
   ]
  },
  {
   "cell_type": "markdown",
   "metadata": {
    "id": "Sv_hu9CdDGc5"
   },
   "source": [
    "<p>20 common tokens with no stop words</p>"
   ]
  },
  {
   "cell_type": "code",
   "execution_count": 12,
   "metadata": {
    "colab": {
     "base_uri": "https://localhost:8080/",
     "height": 52
    },
    "executionInfo": {
     "elapsed": 2495,
     "status": "ok",
     "timestamp": 1603765069956,
     "user": {
      "displayName": "Kholishotul A",
      "photoUrl": "https://lh3.googleusercontent.com/a-/AOh14GiG9CzvSfsmH8B8XGHlsMch6uTzbKddEqvdPgkO=s64",
      "userId": "05198186454443169271"
     },
     "user_tz": -420
    },
    "id": "17jMixcNDGc5",
    "outputId": "e7dcd9ea-12a0-4b54-b25e-eea598b6b829"
   },
   "outputs": [
    {
     "name": "stderr",
     "output_type": "stream",
     "text": [
      "[nltk_data] Downloading package stopwords to\n",
      "[nltk_data]     C:\\Users\\asus\\AppData\\Roaming\\nltk_data...\n",
      "[nltk_data]   Package stopwords is already up-to-date!\n"
     ]
    }
   ],
   "source": [
    "import nltk\n",
    "nltk.download('stopwords')\n",
    "\n",
    "stopwords = nltk.corpus.stopwords.words('english')\n",
    "words = [word.lower() for word in words if word.lower() not in stopwords]"
   ]
  },
  {
   "cell_type": "code",
   "execution_count": 13,
   "metadata": {
    "executionInfo": {
     "elapsed": 1021,
     "status": "ok",
     "timestamp": 1603765075678,
     "user": {
      "displayName": "Kholishotul A",
      "photoUrl": "https://lh3.googleusercontent.com/a-/AOh14GiG9CzvSfsmH8B8XGHlsMch6uTzbKddEqvdPgkO=s64",
      "userId": "05198186454443169271"
     },
     "user_tz": -420
    },
    "id": "o3B4quYCDGc8"
   },
   "outputs": [],
   "source": [
    "from collections import Counter\n",
    "\n",
    "c = Counter(words)\n",
    "Common_Tokens = c.most_common(20)"
   ]
  },
  {
   "cell_type": "code",
   "execution_count": 14,
   "metadata": {
    "executionInfo": {
     "elapsed": 1103,
     "status": "ok",
     "timestamp": 1603765080013,
     "user": {
      "displayName": "Kholishotul A",
      "photoUrl": "https://lh3.googleusercontent.com/a-/AOh14GiG9CzvSfsmH8B8XGHlsMch6uTzbKddEqvdPgkO=s64",
      "userId": "05198186454443169271"
     },
     "user_tz": -420
    },
    "id": "TsY5meQCDGc_"
   },
   "outputs": [],
   "source": [
    "Num_Common_NoStopword = 20\n",
    "Corpus_Src = 'PubMed_Top1-10'\n",
    "Target_NoStopword = 'Title_NumCommonTokens_' + str(Num_Common_NoStopword) + '_NoStopword'\n",
    "OutFile_NoStopword = '../Output/Single_Line/' + Corpus_Src + '_' + Target_NoStopword + '.csv'\n",
    "\n",
    "pd.DataFrame(Common_Tokens, columns = ['Tokens', 'Frequency']).to_csv(OutFile_NoStopword, index=False)"
   ]
  },
  {
   "cell_type": "code",
   "execution_count": 15,
   "metadata": {
    "colab": {
     "base_uri": "https://localhost:8080/",
     "height": 639
    },
    "executionInfo": {
     "elapsed": 1040,
     "status": "ok",
     "timestamp": 1603769830845,
     "user": {
      "displayName": "Kholishotul A",
      "photoUrl": "https://lh3.googleusercontent.com/a-/AOh14GiG9CzvSfsmH8B8XGHlsMch6uTzbKddEqvdPgkO=s64",
      "userId": "05198186454443169271"
     },
     "user_tz": -420
    },
    "id": "oyDumb10DGdC",
    "outputId": "c93eb651-16ad-4ec8-c906-36998de8cf3e"
   },
   "outputs": [
    {
     "data": {
      "text/html": [
       "<div>\n",
       "<style scoped>\n",
       "    .dataframe tbody tr th:only-of-type {\n",
       "        vertical-align: middle;\n",
       "    }\n",
       "\n",
       "    .dataframe tbody tr th {\n",
       "        vertical-align: top;\n",
       "    }\n",
       "\n",
       "    .dataframe thead th {\n",
       "        text-align: right;\n",
       "    }\n",
       "</style>\n",
       "<table border=\"1\" class=\"dataframe\">\n",
       "  <thead>\n",
       "    <tr style=\"text-align: right;\">\n",
       "      <th></th>\n",
       "      <th>Tokens</th>\n",
       "      <th>Frequency</th>\n",
       "    </tr>\n",
       "  </thead>\n",
       "  <tbody>\n",
       "    <tr>\n",
       "      <th>0</th>\n",
       "      <td>cancer</td>\n",
       "      <td>58981</td>\n",
       "    </tr>\n",
       "    <tr>\n",
       "      <th>1</th>\n",
       "      <td>breast</td>\n",
       "      <td>9511</td>\n",
       "    </tr>\n",
       "    <tr>\n",
       "      <th>2</th>\n",
       "      <td>treatment</td>\n",
       "      <td>8742</td>\n",
       "    </tr>\n",
       "    <tr>\n",
       "      <th>3</th>\n",
       "      <td>lung</td>\n",
       "      <td>8615</td>\n",
       "    </tr>\n",
       "    <tr>\n",
       "      <th>4</th>\n",
       "      <td>prostate</td>\n",
       "      <td>8369</td>\n",
       "    </tr>\n",
       "    <tr>\n",
       "      <th>5</th>\n",
       "      <td>colorectal</td>\n",
       "      <td>8278</td>\n",
       "    </tr>\n",
       "    <tr>\n",
       "      <th>6</th>\n",
       "      <td>thyroid</td>\n",
       "      <td>7878</td>\n",
       "    </tr>\n",
       "    <tr>\n",
       "      <th>7</th>\n",
       "      <td>patients</td>\n",
       "      <td>7791</td>\n",
       "    </tr>\n",
       "    <tr>\n",
       "      <th>8</th>\n",
       "      <td>carcinoma</td>\n",
       "      <td>7727</td>\n",
       "    </tr>\n",
       "    <tr>\n",
       "      <th>9</th>\n",
       "      <td>bladder</td>\n",
       "      <td>7365</td>\n",
       "    </tr>\n",
       "    <tr>\n",
       "      <th>10</th>\n",
       "      <td>gastric</td>\n",
       "      <td>5252</td>\n",
       "    </tr>\n",
       "    <tr>\n",
       "      <th>11</th>\n",
       "      <td>liver</td>\n",
       "      <td>5213</td>\n",
       "    </tr>\n",
       "    <tr>\n",
       "      <th>12</th>\n",
       "      <td>diagnosis</td>\n",
       "      <td>4350</td>\n",
       "    </tr>\n",
       "    <tr>\n",
       "      <th>13</th>\n",
       "      <td>therapy</td>\n",
       "      <td>4349</td>\n",
       "    </tr>\n",
       "    <tr>\n",
       "      <th>14</th>\n",
       "      <td>cervical</td>\n",
       "      <td>4241</td>\n",
       "    </tr>\n",
       "    <tr>\n",
       "      <th>15</th>\n",
       "      <td>esophageal</td>\n",
       "      <td>3992</td>\n",
       "    </tr>\n",
       "    <tr>\n",
       "      <th>16</th>\n",
       "      <td>cell</td>\n",
       "      <td>3807</td>\n",
       "    </tr>\n",
       "    <tr>\n",
       "      <th>17</th>\n",
       "      <td>clinical</td>\n",
       "      <td>3755</td>\n",
       "    </tr>\n",
       "    <tr>\n",
       "      <th>18</th>\n",
       "      <td>screening</td>\n",
       "      <td>3522</td>\n",
       "    </tr>\n",
       "    <tr>\n",
       "      <th>19</th>\n",
       "      <td>stomach</td>\n",
       "      <td>3504</td>\n",
       "    </tr>\n",
       "  </tbody>\n",
       "</table>\n",
       "</div>"
      ],
      "text/plain": [
       "        Tokens  Frequency\n",
       "0       cancer      58981\n",
       "1       breast       9511\n",
       "2    treatment       8742\n",
       "3         lung       8615\n",
       "4     prostate       8369\n",
       "5   colorectal       8278\n",
       "6      thyroid       7878\n",
       "7     patients       7791\n",
       "8    carcinoma       7727\n",
       "9      bladder       7365\n",
       "10     gastric       5252\n",
       "11       liver       5213\n",
       "12   diagnosis       4350\n",
       "13     therapy       4349\n",
       "14    cervical       4241\n",
       "15  esophageal       3992\n",
       "16        cell       3807\n",
       "17    clinical       3755\n",
       "18   screening       3522\n",
       "19     stomach       3504"
      ]
     },
     "execution_count": 15,
     "metadata": {},
     "output_type": "execute_result"
    }
   ],
   "source": [
    "import pandas as pd\n",
    "\n",
    "file = '../Output/Single_Line/PubMed_Top1-10_Title_NumCommonTokens_20_NoStopword.csv'\n",
    "\n",
    "PubMed_Title_20_NoStopword = pd.read_csv(file, delimiter=',')\n",
    "PubMed_Title_20_NoStopword"
   ]
  },
  {
   "cell_type": "markdown",
   "metadata": {
    "id": "mI8_qy1fDGdE"
   },
   "source": [
    "<h1>(70%)(single Line)(No Stopwords): (60%) +Find the most 20 common words within the \"Abstract\" and show the differences top 20 common words between \"Title\" and \"Abstract\"</h1>"
   ]
  },
  {
   "cell_type": "code",
   "execution_count": 16,
   "metadata": {
    "colab": {
     "base_uri": "https://localhost:8080/",
     "height": 54
    },
    "executionInfo": {
     "elapsed": 1349,
     "status": "ok",
     "timestamp": 1603768712679,
     "user": {
      "displayName": "Kholishotul A",
      "photoUrl": "https://lh3.googleusercontent.com/a-/AOh14GiG9CzvSfsmH8B8XGHlsMch6uTzbKddEqvdPgkO=s64",
      "userId": "05198186454443169271"
     },
     "user_tz": -420
    },
    "id": "KfIxwXUtDGda",
    "outputId": "9b56432b-f365-4803-8fcb-9b52ddda4961"
   },
   "outputs": [
    {
     "name": "stdout",
     "output_type": "stream",
     "text": [
      "[['Nowadays,', 'lung', 'cancer', 'is', 'a', 'leading', 'cause', 'of', 'death', 'in', 'both', 'men', 'and', 'women', 'worldwide.'], ['Lung', 'cancer', 'has', 'been', 'transformed', 'from', 'a', 'rare', 'disease', 'into', 'a', 'global', 'problem', 'and'], ['Lung', 'cancer', 'diagnosis', 'is', 'a', 'challenge', 'since', 'it', 'is', 'also', 'one', 'of', 'the', 'most', 'frequently'], ['Lung', 'cancer', 'is', 'the', \"world's\", 'leading', 'cause', 'of', 'cancer', 'death.', 'Screening', 'for', 'lung', 'cancer'], ['Lung', 'cancer', 'is', 'predominantly', 'associated', 'with', 'cigarette', 'smoking;', 'however,', 'a']]\n"
     ]
    }
   ],
   "source": [
    "tokens = [item.split() for item in PubMed_Articles['Abstract'].fillna(\"\")]\n",
    "print(tokens[:5])"
   ]
  },
  {
   "cell_type": "code",
   "execution_count": 17,
   "metadata": {
    "colab": {
     "base_uri": "https://localhost:8080/",
     "height": 34
    },
    "executionInfo": {
     "elapsed": 854,
     "status": "ok",
     "timestamp": 1603768715434,
     "user": {
      "displayName": "Kholishotul A",
      "photoUrl": "https://lh3.googleusercontent.com/a-/AOh14GiG9CzvSfsmH8B8XGHlsMch6uTzbKddEqvdPgkO=s64",
      "userId": "05198186454443169271"
     },
     "user_tz": -420
    },
    "id": "CuuSvhzUDGde",
    "outputId": "47f43f3b-623b-40ac-9b1c-4b1205603a40"
   },
   "outputs": [
    {
     "name": "stdout",
     "output_type": "stream",
     "text": [
      "['Nowadays,', 'lung', 'cancer', 'is', 'a', 'leading', 'cause', 'of', 'death', 'in', 'both', 'men', 'and', 'women', 'worldwide.', 'Lung', 'cancer', 'has', 'been', 'transformed']\n"
     ]
    }
   ],
   "source": [
    "words = [word for sentence in tokens for word in sentence]\n",
    "print(words[:20])"
   ]
  },
  {
   "cell_type": "code",
   "execution_count": 18,
   "metadata": {
    "colab": {
     "base_uri": "https://localhost:8080/",
     "height": 34
    },
    "executionInfo": {
     "elapsed": 2001,
     "status": "ok",
     "timestamp": 1603768717945,
     "user": {
      "displayName": "Kholishotul A",
      "photoUrl": "https://lh3.googleusercontent.com/a-/AOh14GiG9CzvSfsmH8B8XGHlsMch6uTzbKddEqvdPgkO=s64",
      "userId": "05198186454443169271"
     },
     "user_tz": -420
    },
    "id": "bO6p_KQxDGdh",
    "outputId": "3e00372e-829f-44d2-f084-c5fa68b1dfa1"
   },
   "outputs": [
    {
     "name": "stdout",
     "output_type": "stream",
     "text": [
      "['Nowadays', 'lung', 'cancer', 'is', 'a', 'leading', 'cause', 'of', 'death', 'in', 'both', 'men', 'and', 'women', 'worldwide', 'Lung', 'cancer', 'has', 'been', 'transformed']\n"
     ]
    }
   ],
   "source": [
    "import re\n",
    "words = list(filter(None, [re.sub(r'[^A-Za-z]', '', word) for word in words]))\n",
    "print(words[:20])"
   ]
  },
  {
   "cell_type": "code",
   "execution_count": 19,
   "metadata": {
    "colab": {
     "base_uri": "https://localhost:8080/",
     "height": 90
    },
    "executionInfo": {
     "elapsed": 2701,
     "status": "ok",
     "timestamp": 1603768721266,
     "user": {
      "displayName": "Kholishotul A",
      "photoUrl": "https://lh3.googleusercontent.com/a-/AOh14GiG9CzvSfsmH8B8XGHlsMch6uTzbKddEqvdPgkO=s64",
      "userId": "05198186454443169271"
     },
     "user_tz": -420
    },
    "id": "Xh7uYmwzDGdk",
    "outputId": "48fbb9cf-5f85-4b3c-b483-3159955f8cf0"
   },
   "outputs": [
    {
     "name": "stderr",
     "output_type": "stream",
     "text": [
      "[nltk_data] Downloading package stopwords to\n",
      "[nltk_data]     C:\\Users\\asus\\AppData\\Roaming\\nltk_data...\n",
      "[nltk_data]   Package stopwords is already up-to-date!\n"
     ]
    },
    {
     "name": "stdout",
     "output_type": "stream",
     "text": [
      "['nowadays', 'lung', 'cancer', 'leading', 'cause', 'death', 'men', 'women', 'worldwide', 'lung', 'cancer', 'transformed', 'rare', 'disease', 'global', 'problem', 'lung', 'cancer', 'diagnosis', 'challenge']\n"
     ]
    }
   ],
   "source": [
    "import nltk \n",
    "nltk.download('stopwords')\n",
    "\n",
    "stopwords = nltk.corpus.stopwords.words('english')\n",
    "words = [word.lower() for word in words if word.lower() not in stopwords]\n",
    "print(words[:20])"
   ]
  },
  {
   "cell_type": "code",
   "execution_count": 20,
   "metadata": {
    "executionInfo": {
     "elapsed": 1038,
     "status": "ok",
     "timestamp": 1603768725423,
     "user": {
      "displayName": "Kholishotul A",
      "photoUrl": "https://lh3.googleusercontent.com/a-/AOh14GiG9CzvSfsmH8B8XGHlsMch6uTzbKddEqvdPgkO=s64",
      "userId": "05198186454443169271"
     },
     "user_tz": -420
    },
    "id": "OdoXjslcDGdp"
   },
   "outputs": [],
   "source": [
    "from collections import Counter\n",
    "\n",
    "c = Counter(words)\n",
    "Common_Tokens = c.most_common(20)"
   ]
  },
  {
   "cell_type": "code",
   "execution_count": 21,
   "metadata": {
    "executionInfo": {
     "elapsed": 894,
     "status": "ok",
     "timestamp": 1603768727795,
     "user": {
      "displayName": "Kholishotul A",
      "photoUrl": "https://lh3.googleusercontent.com/a-/AOh14GiG9CzvSfsmH8B8XGHlsMch6uTzbKddEqvdPgkO=s64",
      "userId": "05198186454443169271"
     },
     "user_tz": -420
    },
    "id": "7xHQIe_JDGds"
   },
   "outputs": [],
   "source": [
    "Num_Common_NoStopword = 20\n",
    "Corpus_Src = 'PubMed_Top1-10'\n",
    "Target_NoStopword = 'Abstract_NumCommonTokens_' + str(Num_Common_NoStopword) + '_NoStopword'\n",
    "OutFile_NoStopword = '../Output/Single_Line/' + Corpus_Src + '_' + Target_NoStopword + '.csv'\n",
    "\n",
    "pd.DataFrame(Common_Tokens, columns = ['Tokens', 'Frequency']).to_csv(OutFile_NoStopword, index=False)"
   ]
  },
  {
   "cell_type": "code",
   "execution_count": 22,
   "metadata": {
    "colab": {
     "base_uri": "https://localhost:8080/",
     "height": 639
    },
    "executionInfo": {
     "elapsed": 1262,
     "status": "ok",
     "timestamp": 1603768753714,
     "user": {
      "displayName": "Kholishotul A",
      "photoUrl": "https://lh3.googleusercontent.com/a-/AOh14GiG9CzvSfsmH8B8XGHlsMch6uTzbKddEqvdPgkO=s64",
      "userId": "05198186454443169271"
     },
     "user_tz": -420
    },
    "id": "TvGwjwQNQtpa",
    "outputId": "becd0b1d-95f1-454f-db83-4fceda516aa3"
   },
   "outputs": [
    {
     "data": {
      "text/html": [
       "<div>\n",
       "<style scoped>\n",
       "    .dataframe tbody tr th:only-of-type {\n",
       "        vertical-align: middle;\n",
       "    }\n",
       "\n",
       "    .dataframe tbody tr th {\n",
       "        vertical-align: top;\n",
       "    }\n",
       "\n",
       "    .dataframe thead th {\n",
       "        text-align: right;\n",
       "    }\n",
       "</style>\n",
       "<table border=\"1\" class=\"dataframe\">\n",
       "  <thead>\n",
       "    <tr style=\"text-align: right;\">\n",
       "      <th></th>\n",
       "      <th>Tokens</th>\n",
       "      <th>Frequency</th>\n",
       "    </tr>\n",
       "  </thead>\n",
       "  <tbody>\n",
       "    <tr>\n",
       "      <th>0</th>\n",
       "      <td>cancer</td>\n",
       "      <td>40338</td>\n",
       "    </tr>\n",
       "    <tr>\n",
       "      <th>1</th>\n",
       "      <td>background</td>\n",
       "      <td>13118</td>\n",
       "    </tr>\n",
       "    <tr>\n",
       "      <th>2</th>\n",
       "      <td>patients</td>\n",
       "      <td>11520</td>\n",
       "    </tr>\n",
       "    <tr>\n",
       "      <th>3</th>\n",
       "      <td>study</td>\n",
       "      <td>7011</td>\n",
       "    </tr>\n",
       "    <tr>\n",
       "      <th>4</th>\n",
       "      <td>objective</td>\n",
       "      <td>6665</td>\n",
       "    </tr>\n",
       "    <tr>\n",
       "      <th>5</th>\n",
       "      <td>breast</td>\n",
       "      <td>6520</td>\n",
       "    </tr>\n",
       "    <tr>\n",
       "      <th>6</th>\n",
       "      <td>purpose</td>\n",
       "      <td>6325</td>\n",
       "    </tr>\n",
       "    <tr>\n",
       "      <th>7</th>\n",
       "      <td>carcinoma</td>\n",
       "      <td>6136</td>\n",
       "    </tr>\n",
       "    <tr>\n",
       "      <th>8</th>\n",
       "      <td>lung</td>\n",
       "      <td>5994</td>\n",
       "    </tr>\n",
       "    <tr>\n",
       "      <th>9</th>\n",
       "      <td>thyroid</td>\n",
       "      <td>5666</td>\n",
       "    </tr>\n",
       "    <tr>\n",
       "      <th>10</th>\n",
       "      <td>prostate</td>\n",
       "      <td>5613</td>\n",
       "    </tr>\n",
       "    <tr>\n",
       "      <th>11</th>\n",
       "      <td>treatment</td>\n",
       "      <td>5386</td>\n",
       "    </tr>\n",
       "    <tr>\n",
       "      <th>12</th>\n",
       "      <td>colorectal</td>\n",
       "      <td>5181</td>\n",
       "    </tr>\n",
       "    <tr>\n",
       "      <th>13</th>\n",
       "      <td>common</td>\n",
       "      <td>4654</td>\n",
       "    </tr>\n",
       "    <tr>\n",
       "      <th>14</th>\n",
       "      <td>gastric</td>\n",
       "      <td>4364</td>\n",
       "    </tr>\n",
       "    <tr>\n",
       "      <th>15</th>\n",
       "      <td>bladder</td>\n",
       "      <td>4320</td>\n",
       "    </tr>\n",
       "    <tr>\n",
       "      <th>16</th>\n",
       "      <td>aim</td>\n",
       "      <td>3396</td>\n",
       "    </tr>\n",
       "    <tr>\n",
       "      <th>17</th>\n",
       "      <td>cervical</td>\n",
       "      <td>3335</td>\n",
       "    </tr>\n",
       "    <tr>\n",
       "      <th>18</th>\n",
       "      <td>liver</td>\n",
       "      <td>3234</td>\n",
       "    </tr>\n",
       "    <tr>\n",
       "      <th>19</th>\n",
       "      <td>incidence</td>\n",
       "      <td>3117</td>\n",
       "    </tr>\n",
       "  </tbody>\n",
       "</table>\n",
       "</div>"
      ],
      "text/plain": [
       "        Tokens  Frequency\n",
       "0       cancer      40338\n",
       "1   background      13118\n",
       "2     patients      11520\n",
       "3        study       7011\n",
       "4    objective       6665\n",
       "5       breast       6520\n",
       "6      purpose       6325\n",
       "7    carcinoma       6136\n",
       "8         lung       5994\n",
       "9      thyroid       5666\n",
       "10    prostate       5613\n",
       "11   treatment       5386\n",
       "12  colorectal       5181\n",
       "13      common       4654\n",
       "14     gastric       4364\n",
       "15     bladder       4320\n",
       "16         aim       3396\n",
       "17    cervical       3335\n",
       "18       liver       3234\n",
       "19   incidence       3117"
      ]
     },
     "execution_count": 22,
     "metadata": {},
     "output_type": "execute_result"
    }
   ],
   "source": [
    "import pandas as pd\n",
    "\n",
    "file = '../Output/Single_Line/PubMed_Top1-10_Abstract_NumCommonTokens_20_NoStopword.csv'\n",
    "\n",
    "PubMed_Abstract_20_NoStopword = pd.read_csv(file, delimiter=',')\n",
    "PubMed_Abstract_20_NoStopword"
   ]
  },
  {
   "cell_type": "markdown",
   "metadata": {
    "id": "nfv9amB9FJPa"
   },
   "source": [
    "<h1>Comparison</h1>"
   ]
  },
  {
   "cell_type": "code",
   "execution_count": 23,
   "metadata": {
    "colab": {
     "base_uri": "https://localhost:8080/",
     "height": 639
    },
    "executionInfo": {
     "elapsed": 864,
     "status": "ok",
     "timestamp": 1603769919858,
     "user": {
      "displayName": "Kholishotul A",
      "photoUrl": "https://lh3.googleusercontent.com/a-/AOh14GiG9CzvSfsmH8B8XGHlsMch6uTzbKddEqvdPgkO=s64",
      "userId": "05198186454443169271"
     },
     "user_tz": -420
    },
    "id": "36zNUIRzFMhQ",
    "outputId": "69442ee0-3b91-4101-d8a6-529e276008eb"
   },
   "outputs": [
    {
     "data": {
      "text/html": [
       "<div>\n",
       "<style scoped>\n",
       "    .dataframe tbody tr th:only-of-type {\n",
       "        vertical-align: middle;\n",
       "    }\n",
       "\n",
       "    .dataframe tbody tr th {\n",
       "        vertical-align: top;\n",
       "    }\n",
       "\n",
       "    .dataframe thead th {\n",
       "        text-align: right;\n",
       "    }\n",
       "</style>\n",
       "<table border=\"1\" class=\"dataframe\">\n",
       "  <thead>\n",
       "    <tr style=\"text-align: right;\">\n",
       "      <th></th>\n",
       "      <th>Title_Tokens</th>\n",
       "      <th>Title_Frequency</th>\n",
       "    </tr>\n",
       "  </thead>\n",
       "  <tbody>\n",
       "    <tr>\n",
       "      <th>0</th>\n",
       "      <td>cancer</td>\n",
       "      <td>58981</td>\n",
       "    </tr>\n",
       "    <tr>\n",
       "      <th>1</th>\n",
       "      <td>breast</td>\n",
       "      <td>9511</td>\n",
       "    </tr>\n",
       "    <tr>\n",
       "      <th>2</th>\n",
       "      <td>treatment</td>\n",
       "      <td>8742</td>\n",
       "    </tr>\n",
       "    <tr>\n",
       "      <th>3</th>\n",
       "      <td>lung</td>\n",
       "      <td>8615</td>\n",
       "    </tr>\n",
       "    <tr>\n",
       "      <th>4</th>\n",
       "      <td>prostate</td>\n",
       "      <td>8369</td>\n",
       "    </tr>\n",
       "    <tr>\n",
       "      <th>5</th>\n",
       "      <td>colorectal</td>\n",
       "      <td>8278</td>\n",
       "    </tr>\n",
       "    <tr>\n",
       "      <th>6</th>\n",
       "      <td>thyroid</td>\n",
       "      <td>7878</td>\n",
       "    </tr>\n",
       "    <tr>\n",
       "      <th>7</th>\n",
       "      <td>patients</td>\n",
       "      <td>7791</td>\n",
       "    </tr>\n",
       "    <tr>\n",
       "      <th>8</th>\n",
       "      <td>carcinoma</td>\n",
       "      <td>7727</td>\n",
       "    </tr>\n",
       "    <tr>\n",
       "      <th>9</th>\n",
       "      <td>bladder</td>\n",
       "      <td>7365</td>\n",
       "    </tr>\n",
       "    <tr>\n",
       "      <th>10</th>\n",
       "      <td>gastric</td>\n",
       "      <td>5252</td>\n",
       "    </tr>\n",
       "    <tr>\n",
       "      <th>11</th>\n",
       "      <td>liver</td>\n",
       "      <td>5213</td>\n",
       "    </tr>\n",
       "    <tr>\n",
       "      <th>12</th>\n",
       "      <td>diagnosis</td>\n",
       "      <td>4350</td>\n",
       "    </tr>\n",
       "    <tr>\n",
       "      <th>13</th>\n",
       "      <td>therapy</td>\n",
       "      <td>4349</td>\n",
       "    </tr>\n",
       "    <tr>\n",
       "      <th>14</th>\n",
       "      <td>cervical</td>\n",
       "      <td>4241</td>\n",
       "    </tr>\n",
       "    <tr>\n",
       "      <th>15</th>\n",
       "      <td>esophageal</td>\n",
       "      <td>3992</td>\n",
       "    </tr>\n",
       "    <tr>\n",
       "      <th>16</th>\n",
       "      <td>cell</td>\n",
       "      <td>3807</td>\n",
       "    </tr>\n",
       "    <tr>\n",
       "      <th>17</th>\n",
       "      <td>clinical</td>\n",
       "      <td>3755</td>\n",
       "    </tr>\n",
       "    <tr>\n",
       "      <th>18</th>\n",
       "      <td>screening</td>\n",
       "      <td>3522</td>\n",
       "    </tr>\n",
       "    <tr>\n",
       "      <th>19</th>\n",
       "      <td>stomach</td>\n",
       "      <td>3504</td>\n",
       "    </tr>\n",
       "  </tbody>\n",
       "</table>\n",
       "</div>"
      ],
      "text/plain": [
       "   Title_Tokens  Title_Frequency\n",
       "0        cancer            58981\n",
       "1        breast             9511\n",
       "2     treatment             8742\n",
       "3          lung             8615\n",
       "4      prostate             8369\n",
       "5    colorectal             8278\n",
       "6       thyroid             7878\n",
       "7      patients             7791\n",
       "8     carcinoma             7727\n",
       "9       bladder             7365\n",
       "10      gastric             5252\n",
       "11        liver             5213\n",
       "12    diagnosis             4350\n",
       "13      therapy             4349\n",
       "14     cervical             4241\n",
       "15   esophageal             3992\n",
       "16         cell             3807\n",
       "17     clinical             3755\n",
       "18    screening             3522\n",
       "19      stomach             3504"
      ]
     },
     "execution_count": 23,
     "metadata": {},
     "output_type": "execute_result"
    }
   ],
   "source": [
    "import pandas as pd\n",
    "\n",
    "Title_File = '../Output/Single_Line/PubMed_Top1-10_Title_NumCommonTokens_20_NoStopword.csv'\n",
    "\n",
    "PubMed_Title_20_NoStopword = pd.read_csv(Title_File, delimiter=',')\n",
    "PubMed_Title_20_NoStopword = pd.DataFrame(PubMed_Title_20_NoStopword, columns=['Tokens','Frequency'])\n",
    "PubMed_Title_20_NoStopword = PubMed_Title_20_NoStopword.rename(columns={'Tokens': 'Title_Tokens', 'Frequency': 'Title_Frequency'})\n",
    "PubMed_Title_20_NoStopword"
   ]
  },
  {
   "cell_type": "code",
   "execution_count": 24,
   "metadata": {
    "colab": {
     "base_uri": "https://localhost:8080/",
     "height": 639
    },
    "executionInfo": {
     "elapsed": 896,
     "status": "ok",
     "timestamp": 1603769928025,
     "user": {
      "displayName": "Kholishotul A",
      "photoUrl": "https://lh3.googleusercontent.com/a-/AOh14GiG9CzvSfsmH8B8XGHlsMch6uTzbKddEqvdPgkO=s64",
      "userId": "05198186454443169271"
     },
     "user_tz": -420
    },
    "id": "KBj6qda0GtXz",
    "outputId": "fc328651-abd9-421b-ec90-1af7c4510f83"
   },
   "outputs": [
    {
     "data": {
      "text/html": [
       "<div>\n",
       "<style scoped>\n",
       "    .dataframe tbody tr th:only-of-type {\n",
       "        vertical-align: middle;\n",
       "    }\n",
       "\n",
       "    .dataframe tbody tr th {\n",
       "        vertical-align: top;\n",
       "    }\n",
       "\n",
       "    .dataframe thead th {\n",
       "        text-align: right;\n",
       "    }\n",
       "</style>\n",
       "<table border=\"1\" class=\"dataframe\">\n",
       "  <thead>\n",
       "    <tr style=\"text-align: right;\">\n",
       "      <th></th>\n",
       "      <th>Abstract_Tokens</th>\n",
       "      <th>Abstract_Frequency</th>\n",
       "    </tr>\n",
       "  </thead>\n",
       "  <tbody>\n",
       "    <tr>\n",
       "      <th>0</th>\n",
       "      <td>cancer</td>\n",
       "      <td>40338</td>\n",
       "    </tr>\n",
       "    <tr>\n",
       "      <th>1</th>\n",
       "      <td>background</td>\n",
       "      <td>13118</td>\n",
       "    </tr>\n",
       "    <tr>\n",
       "      <th>2</th>\n",
       "      <td>patients</td>\n",
       "      <td>11520</td>\n",
       "    </tr>\n",
       "    <tr>\n",
       "      <th>3</th>\n",
       "      <td>study</td>\n",
       "      <td>7011</td>\n",
       "    </tr>\n",
       "    <tr>\n",
       "      <th>4</th>\n",
       "      <td>objective</td>\n",
       "      <td>6665</td>\n",
       "    </tr>\n",
       "    <tr>\n",
       "      <th>5</th>\n",
       "      <td>breast</td>\n",
       "      <td>6520</td>\n",
       "    </tr>\n",
       "    <tr>\n",
       "      <th>6</th>\n",
       "      <td>purpose</td>\n",
       "      <td>6325</td>\n",
       "    </tr>\n",
       "    <tr>\n",
       "      <th>7</th>\n",
       "      <td>carcinoma</td>\n",
       "      <td>6136</td>\n",
       "    </tr>\n",
       "    <tr>\n",
       "      <th>8</th>\n",
       "      <td>lung</td>\n",
       "      <td>5994</td>\n",
       "    </tr>\n",
       "    <tr>\n",
       "      <th>9</th>\n",
       "      <td>thyroid</td>\n",
       "      <td>5666</td>\n",
       "    </tr>\n",
       "    <tr>\n",
       "      <th>10</th>\n",
       "      <td>prostate</td>\n",
       "      <td>5613</td>\n",
       "    </tr>\n",
       "    <tr>\n",
       "      <th>11</th>\n",
       "      <td>treatment</td>\n",
       "      <td>5386</td>\n",
       "    </tr>\n",
       "    <tr>\n",
       "      <th>12</th>\n",
       "      <td>colorectal</td>\n",
       "      <td>5181</td>\n",
       "    </tr>\n",
       "    <tr>\n",
       "      <th>13</th>\n",
       "      <td>common</td>\n",
       "      <td>4654</td>\n",
       "    </tr>\n",
       "    <tr>\n",
       "      <th>14</th>\n",
       "      <td>gastric</td>\n",
       "      <td>4364</td>\n",
       "    </tr>\n",
       "    <tr>\n",
       "      <th>15</th>\n",
       "      <td>bladder</td>\n",
       "      <td>4320</td>\n",
       "    </tr>\n",
       "    <tr>\n",
       "      <th>16</th>\n",
       "      <td>aim</td>\n",
       "      <td>3396</td>\n",
       "    </tr>\n",
       "    <tr>\n",
       "      <th>17</th>\n",
       "      <td>cervical</td>\n",
       "      <td>3335</td>\n",
       "    </tr>\n",
       "    <tr>\n",
       "      <th>18</th>\n",
       "      <td>liver</td>\n",
       "      <td>3234</td>\n",
       "    </tr>\n",
       "    <tr>\n",
       "      <th>19</th>\n",
       "      <td>incidence</td>\n",
       "      <td>3117</td>\n",
       "    </tr>\n",
       "  </tbody>\n",
       "</table>\n",
       "</div>"
      ],
      "text/plain": [
       "   Abstract_Tokens  Abstract_Frequency\n",
       "0           cancer               40338\n",
       "1       background               13118\n",
       "2         patients               11520\n",
       "3            study                7011\n",
       "4        objective                6665\n",
       "5           breast                6520\n",
       "6          purpose                6325\n",
       "7        carcinoma                6136\n",
       "8             lung                5994\n",
       "9          thyroid                5666\n",
       "10        prostate                5613\n",
       "11       treatment                5386\n",
       "12      colorectal                5181\n",
       "13          common                4654\n",
       "14         gastric                4364\n",
       "15         bladder                4320\n",
       "16             aim                3396\n",
       "17        cervical                3335\n",
       "18           liver                3234\n",
       "19       incidence                3117"
      ]
     },
     "execution_count": 24,
     "metadata": {},
     "output_type": "execute_result"
    }
   ],
   "source": [
    "Abstract_File = '../Output/Single_Line/PubMed_Top1-10_Abstract_NumCommonTokens_20_NoStopword.csv'\n",
    "\n",
    "PubMed_Abstract_20_NoStopword = pd.read_csv(Abstract_File, delimiter=',')\n",
    "PubMed_Abstract_20_NoStopword = pd.DataFrame(PubMed_Abstract_20_NoStopword, columns=['Tokens','Frequency'])\n",
    "PubMed_Abstract_20_NoStopword = PubMed_Abstract_20_NoStopword.rename(columns={'Tokens': 'Abstract_Tokens', 'Frequency': 'Abstract_Frequency'})\n",
    "PubMed_Abstract_20_NoStopword"
   ]
  },
  {
   "cell_type": "code",
   "execution_count": 25,
   "metadata": {
    "colab": {
     "base_uri": "https://localhost:8080/",
     "height": 639
    },
    "executionInfo": {
     "elapsed": 1090,
     "status": "ok",
     "timestamp": 1603770058246,
     "user": {
      "displayName": "Kholishotul A",
      "photoUrl": "https://lh3.googleusercontent.com/a-/AOh14GiG9CzvSfsmH8B8XGHlsMch6uTzbKddEqvdPgkO=s64",
      "userId": "05198186454443169271"
     },
     "user_tz": -420
    },
    "id": "vJGJeMnEH6uU",
    "outputId": "940359e3-8d14-4f86-85a9-8c4e2e929738"
   },
   "outputs": [
    {
     "data": {
      "text/html": [
       "<div>\n",
       "<style scoped>\n",
       "    .dataframe tbody tr th:only-of-type {\n",
       "        vertical-align: middle;\n",
       "    }\n",
       "\n",
       "    .dataframe tbody tr th {\n",
       "        vertical-align: top;\n",
       "    }\n",
       "\n",
       "    .dataframe thead th {\n",
       "        text-align: right;\n",
       "    }\n",
       "</style>\n",
       "<table border=\"1\" class=\"dataframe\">\n",
       "  <thead>\n",
       "    <tr style=\"text-align: right;\">\n",
       "      <th></th>\n",
       "      <th>Title_Tokens</th>\n",
       "      <th>Title_Frequency</th>\n",
       "      <th>Abstract_Tokens</th>\n",
       "      <th>Abstract_Frequency</th>\n",
       "    </tr>\n",
       "  </thead>\n",
       "  <tbody>\n",
       "    <tr>\n",
       "      <th>0</th>\n",
       "      <td>cancer</td>\n",
       "      <td>58981</td>\n",
       "      <td>cancer</td>\n",
       "      <td>40338</td>\n",
       "    </tr>\n",
       "    <tr>\n",
       "      <th>1</th>\n",
       "      <td>breast</td>\n",
       "      <td>9511</td>\n",
       "      <td>background</td>\n",
       "      <td>13118</td>\n",
       "    </tr>\n",
       "    <tr>\n",
       "      <th>2</th>\n",
       "      <td>treatment</td>\n",
       "      <td>8742</td>\n",
       "      <td>patients</td>\n",
       "      <td>11520</td>\n",
       "    </tr>\n",
       "    <tr>\n",
       "      <th>3</th>\n",
       "      <td>lung</td>\n",
       "      <td>8615</td>\n",
       "      <td>study</td>\n",
       "      <td>7011</td>\n",
       "    </tr>\n",
       "    <tr>\n",
       "      <th>4</th>\n",
       "      <td>prostate</td>\n",
       "      <td>8369</td>\n",
       "      <td>objective</td>\n",
       "      <td>6665</td>\n",
       "    </tr>\n",
       "    <tr>\n",
       "      <th>5</th>\n",
       "      <td>colorectal</td>\n",
       "      <td>8278</td>\n",
       "      <td>breast</td>\n",
       "      <td>6520</td>\n",
       "    </tr>\n",
       "    <tr>\n",
       "      <th>6</th>\n",
       "      <td>thyroid</td>\n",
       "      <td>7878</td>\n",
       "      <td>purpose</td>\n",
       "      <td>6325</td>\n",
       "    </tr>\n",
       "    <tr>\n",
       "      <th>7</th>\n",
       "      <td>patients</td>\n",
       "      <td>7791</td>\n",
       "      <td>carcinoma</td>\n",
       "      <td>6136</td>\n",
       "    </tr>\n",
       "    <tr>\n",
       "      <th>8</th>\n",
       "      <td>carcinoma</td>\n",
       "      <td>7727</td>\n",
       "      <td>lung</td>\n",
       "      <td>5994</td>\n",
       "    </tr>\n",
       "    <tr>\n",
       "      <th>9</th>\n",
       "      <td>bladder</td>\n",
       "      <td>7365</td>\n",
       "      <td>thyroid</td>\n",
       "      <td>5666</td>\n",
       "    </tr>\n",
       "    <tr>\n",
       "      <th>10</th>\n",
       "      <td>gastric</td>\n",
       "      <td>5252</td>\n",
       "      <td>prostate</td>\n",
       "      <td>5613</td>\n",
       "    </tr>\n",
       "    <tr>\n",
       "      <th>11</th>\n",
       "      <td>liver</td>\n",
       "      <td>5213</td>\n",
       "      <td>treatment</td>\n",
       "      <td>5386</td>\n",
       "    </tr>\n",
       "    <tr>\n",
       "      <th>12</th>\n",
       "      <td>diagnosis</td>\n",
       "      <td>4350</td>\n",
       "      <td>colorectal</td>\n",
       "      <td>5181</td>\n",
       "    </tr>\n",
       "    <tr>\n",
       "      <th>13</th>\n",
       "      <td>therapy</td>\n",
       "      <td>4349</td>\n",
       "      <td>common</td>\n",
       "      <td>4654</td>\n",
       "    </tr>\n",
       "    <tr>\n",
       "      <th>14</th>\n",
       "      <td>cervical</td>\n",
       "      <td>4241</td>\n",
       "      <td>gastric</td>\n",
       "      <td>4364</td>\n",
       "    </tr>\n",
       "    <tr>\n",
       "      <th>15</th>\n",
       "      <td>esophageal</td>\n",
       "      <td>3992</td>\n",
       "      <td>bladder</td>\n",
       "      <td>4320</td>\n",
       "    </tr>\n",
       "    <tr>\n",
       "      <th>16</th>\n",
       "      <td>cell</td>\n",
       "      <td>3807</td>\n",
       "      <td>aim</td>\n",
       "      <td>3396</td>\n",
       "    </tr>\n",
       "    <tr>\n",
       "      <th>17</th>\n",
       "      <td>clinical</td>\n",
       "      <td>3755</td>\n",
       "      <td>cervical</td>\n",
       "      <td>3335</td>\n",
       "    </tr>\n",
       "    <tr>\n",
       "      <th>18</th>\n",
       "      <td>screening</td>\n",
       "      <td>3522</td>\n",
       "      <td>liver</td>\n",
       "      <td>3234</td>\n",
       "    </tr>\n",
       "    <tr>\n",
       "      <th>19</th>\n",
       "      <td>stomach</td>\n",
       "      <td>3504</td>\n",
       "      <td>incidence</td>\n",
       "      <td>3117</td>\n",
       "    </tr>\n",
       "  </tbody>\n",
       "</table>\n",
       "</div>"
      ],
      "text/plain": [
       "   Title_Tokens  Title_Frequency Abstract_Tokens  Abstract_Frequency\n",
       "0        cancer            58981          cancer               40338\n",
       "1        breast             9511      background               13118\n",
       "2     treatment             8742        patients               11520\n",
       "3          lung             8615           study                7011\n",
       "4      prostate             8369       objective                6665\n",
       "5    colorectal             8278          breast                6520\n",
       "6       thyroid             7878         purpose                6325\n",
       "7      patients             7791       carcinoma                6136\n",
       "8     carcinoma             7727            lung                5994\n",
       "9       bladder             7365         thyroid                5666\n",
       "10      gastric             5252        prostate                5613\n",
       "11        liver             5213       treatment                5386\n",
       "12    diagnosis             4350      colorectal                5181\n",
       "13      therapy             4349          common                4654\n",
       "14     cervical             4241         gastric                4364\n",
       "15   esophageal             3992         bladder                4320\n",
       "16         cell             3807             aim                3396\n",
       "17     clinical             3755        cervical                3335\n",
       "18    screening             3522           liver                3234\n",
       "19      stomach             3504       incidence                3117"
      ]
     },
     "execution_count": 25,
     "metadata": {},
     "output_type": "execute_result"
    }
   ],
   "source": [
    "PubMed_SingleLine_20_NoStopword = pd.DataFrame(PubMed_Title_20_NoStopword)\n",
    "PubMed_SingleLine_20_NoStopword['Abstract_Tokens'] = PubMed_Abstract_20_NoStopword['Abstract_Tokens']\n",
    "PubMed_SingleLine_20_NoStopword['Abstract_Frequency'] = PubMed_Abstract_20_NoStopword['Abstract_Frequency']\n",
    "PubMed_SingleLine_20_NoStopword"
   ]
  },
  {
   "cell_type": "code",
   "execution_count": null,
   "metadata": {},
   "outputs": [],
   "source": []
  }
 ],
 "metadata": {
  "colab": {
   "collapsed_sections": [],
   "name": "Home Work I (single line).ipynb",
   "provenance": []
  },
  "kernelspec": {
   "display_name": "Python 3",
   "language": "python",
   "name": "python3"
  },
  "language_info": {
   "codemirror_mode": {
    "name": "ipython",
    "version": 3
   },
   "file_extension": ".py",
   "mimetype": "text/x-python",
   "name": "python",
   "nbconvert_exporter": "python",
   "pygments_lexer": "ipython3",
   "version": "3.7.4"
  }
 },
 "nbformat": 4,
 "nbformat_minor": 1
}
